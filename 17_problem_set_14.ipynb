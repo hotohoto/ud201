{
 "cells": [
  {
   "cell_type": "code",
   "execution_count": 1,
   "id": "dff31a34",
   "metadata": {},
   "outputs": [],
   "source": [
    "import matplotlib.pyplot as plt\n",
    "import numpy as np\n",
    "import pandas as pd\n",
    "from scipy.stats import pearsonr, t"
   ]
  },
  {
   "cell_type": "code",
   "execution_count": 2,
   "id": "8020dae3",
   "metadata": {},
   "outputs": [
    {
     "data": {
      "text/plain": [
       "0.9870018188541945"
      ]
     },
     "execution_count": 2,
     "metadata": {},
     "output_type": "execute_result"
    }
   ],
   "source": [
    "#6\n",
    "nu = 45 - 2\n",
    "t_value = 2.306\n",
    "t(nu).cdf(t_value)"
   ]
  },
  {
   "cell_type": "code",
   "execution_count": 3,
   "id": "55fb300b",
   "metadata": {},
   "outputs": [
    {
     "data": {
      "text/plain": [
       "(0.9541449326178454, 1.215495795540018e-07)"
      ]
     },
     "execution_count": 3,
     "metadata": {},
     "output_type": "execute_result"
    }
   ],
   "source": [
    "#7\n",
    "df = pd.read_csv(\"dreams.csv\")\n",
    "r, p = pearsonr(df[\"Number of dreams written down\"], df[\"Number of dreams remembered after waking\"])\n",
    "r, p"
   ]
  },
  {
   "cell_type": "code",
   "execution_count": 4,
   "id": "4fe635b9",
   "metadata": {},
   "outputs": [
    {
     "data": {
      "image/png": "[encoded data removed]",
      "text/plain": [
       "<Figure size 432x288 with 1 Axes>"
      ]
     },
     "metadata": {
      "needs_background": "light"
     },
     "output_type": "display_data"
    }
   ],
   "source": [
    "#14\n",
    "df = pd.read_csv(\"gestation_and_longevity.csv\")\n",
    "col_x = \"Gestation (days)\"\n",
    "col_y = \"Longevity (years)\"\n",
    "df.plot.scatter(col_x, col_y)\n",
    "plt.show()"
   ]
  },
  {
   "cell_type": "code",
   "execution_count": 5,
   "id": "fed0e228",
   "metadata": {},
   "outputs": [
    {
     "name": "stdout",
     "output_type": "stream",
     "text": [
      "r=0.5893126939325753\n",
      "r^2=0.3472894512300692\n",
      "p=6.309895087810744e-05\n"
     ]
    }
   ],
   "source": [
    "#15~20\n",
    "r, p = pearsonr(df[col_x], df[col_y])\n",
    "print(f\"r={r}\")\n",
    "print(f\"r^2={r**2}\")\n",
    "print(f\"p={p}\")"
   ]
  },
  {
   "cell_type": "code",
   "execution_count": 6,
   "id": "9cd1ad34",
   "metadata": {},
   "outputs": [
    {
     "name": "stdout",
     "output_type": "stream",
     "text": [
      "t=2.207381002766377\n",
      "t_critical1 = 2.048407141795244\n",
      "reject null = True\n",
      "t_critical2 = 2.763262455461066\n",
      "reject null = False\n"
     ]
    }
   ],
   "source": [
    "#21\n",
    "r = 0.385\n",
    "n = 30\n",
    "nu = n - 2\n",
    "t_value = r*(nu**0.5) / (1 - r**2)**0.5\n",
    "print(f\"t={t_value}\")\n",
    "\n",
    "alpha1 = 0.05\n",
    "t_critical1 = t(nu).ppf(1 - alpha1 / 2)\n",
    "print(f\"t_critical1 = {t_critical1}\")\n",
    "print(f\"reject null = {t_critical1 < t_value}\")\n",
    "\n",
    "alpha2 = 0.01\n",
    "t_critical2 = t(nu).ppf(1 - alpha2 / 2)\n",
    "print(f\"t_critical2 = {t_critical2}\")\n",
    "print(f\"reject null = {t_critical2 < t_value}\")\n"
   ]
  }
 ],
 "metadata": {
  "kernelspec": {
   "display_name": "Python 3",
   "language": "python",
   "name": "python3"
  },
  "language_info": {
   "codemirror_mode": {
    "name": "ipython",
    "version": 3
   },
   "file_extension": ".py",
   "mimetype": "text/x-python",
   "name": "python",
   "nbconvert_exporter": "python",
   "pygments_lexer": "ipython3",
   "version": "3.8.3"
  }
 },
 "nbformat": 4,
 "nbformat_minor": 5
}
