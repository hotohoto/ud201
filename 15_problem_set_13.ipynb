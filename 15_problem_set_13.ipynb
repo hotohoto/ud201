{
 "cells": [
  {
   "cell_type": "code",
   "execution_count": 1,
   "id": "679dfb14",
   "metadata": {},
   "outputs": [],
   "source": [
    "import numpy as np\n",
    "import pandas as pd\n",
    "from scipy.stats import f\n",
    "from statsmodels.stats.libqsturng import qsturng"
   ]
  },
  {
   "cell_type": "code",
   "execution_count": 2,
   "id": "463f3408",
   "metadata": {},
   "outputs": [
    {
     "name": "stdout",
     "output_type": "stream",
     "text": [
      "f_critical = 3.3158295010135217\n"
     ]
    }
   ],
   "source": [
    "#1\n",
    "f_critical = f(2, 30).ppf(1 - 0.05)\n",
    "print(f\"f_critical = {f_critical}\")"
   ]
  },
  {
   "cell_type": "code",
   "execution_count": 3,
   "id": "167f169c",
   "metadata": {},
   "outputs": [
    {
     "name": "stdout",
     "output_type": "stream",
     "text": [
      "f_critical = 3.2873821046365115\n"
     ]
    }
   ],
   "source": [
    "#2\n",
    "f_critical = f(3, 15).ppf(1 - 0.05)\n",
    "print(f\"f_critical = {f_critical}\")"
   ]
  },
  {
   "cell_type": "code",
   "execution_count": 4,
   "id": "832dd507",
   "metadata": {},
   "outputs": [
    {
     "name": "stdout",
     "output_type": "stream",
     "text": [
      "f_critical = 4.170876785766691\n"
     ]
    }
   ],
   "source": [
    "#12\n",
    "f_critical = f(1, 30).ppf(1 - 0.05)\n",
    "print(f\"f_critical = {f_critical}\")"
   ]
  },
  {
   "cell_type": "code",
   "execution_count": 5,
   "id": "33636804",
   "metadata": {},
   "outputs": [
    {
     "name": "stdout",
     "output_type": "stream",
     "text": [
      "f_critical = 3.1826098520427744\n"
     ]
    }
   ],
   "source": [
    "# 13\n",
    "f_critical = f(2, 50).ppf(1 - 0.05)\n",
    "print(f\"f_critical = {f_critical}\")"
   ]
  },
  {
   "cell_type": "code",
   "execution_count": 6,
   "id": "2782423f",
   "metadata": {},
   "outputs": [
    {
     "name": "stdout",
     "output_type": "stream",
     "text": [
      "all_mean = [-10.0, 12.0, 0.19999999999999998]\n",
      "grand_mean = 0.07777777777777778\n",
      "ss_between = 1320.171111111111\n",
      "ss_within = 133.48\n",
      "df_between = 2\n",
      "df_within = 15\n",
      "ms_between = 660.0855555555555\n",
      "ms_within = 8.898666666666665\n",
      "f_value = 74.1780291679153\n",
      "f_critical = 3.6823203436732412\n",
      "eta_square = 0.908176041018554\n"
     ]
    }
   ],
   "source": [
    "# 17~24\n",
    "x_1 = pd.Series([-8, -11, -17, -9, -10, -5])\n",
    "x_2 = pd.Series([12, 9, 16, 8, 15])\n",
    "x_3 = pd.Series([0.5, 0.0, -1.0, 1.5, 0.5, -0.1, 0])\n",
    "all_x = [x_1, x_2, x_3]\n",
    "\n",
    "all_values = pd.Series(\n",
    "    x_1.tolist() + x_2.tolist() + x_3.tolist()\n",
    ")\n",
    "all_len = [len(x_i) for x_i in all_x]\n",
    "all_mean = [x_i.mean() for x_i in all_x]\n",
    "\n",
    "print(f\"all_mean = {all_mean}\")\n",
    "\n",
    "grand_mean = all_values.mean()\n",
    "print(f\"grand_mean = {grand_mean}\")\n",
    "\n",
    "ss_between = np.array([x_len_i * (x_bar_i - grand_mean)**2 for x_len_i, x_bar_i in zip(all_len, all_mean)]).sum()\n",
    "print(f\"ss_between = {ss_between}\")\n",
    "\n",
    "ss_within = np.array([((x_i - x_bar_i)**2).sum() for x_i, x_bar_i in zip(all_x, all_mean)]).sum()\n",
    "print(f\"ss_within = {ss_within}\")\n",
    "\n",
    "k = len(all_x)\n",
    "N = np.sum(all_len)\n",
    "df_between = k - 1\n",
    "print(f\"df_between = {df_between}\")\n",
    "\n",
    "df_within = N - k\n",
    "print(f\"df_within = {df_within}\")\n",
    "\n",
    "ms_between = ss_between / df_between\n",
    "print(f\"ms_between = {ms_between}\")\n",
    "\n",
    "ms_within = ss_within / df_within\n",
    "print(f\"ms_within = {ms_within}\")\n",
    "\n",
    "f_value = ms_between / ms_within\n",
    "print(f\"f_value = {f_value}\")\n",
    "\n",
    "f_critical = f(2, 15).ppf(1 - 0.05)\n",
    "print(f\"f_critical = {f_critical}\")\n",
    "\n",
    "eta_square = ss_between / (ss_between + ss_within)\n",
    "print(f\"eta_square = {eta_square}\")"
   ]
  },
  {
   "cell_type": "code",
   "execution_count": 7,
   "id": "66b242d4",
   "metadata": {},
   "outputs": [
    {
     "name": "stdout",
     "output_type": "stream",
     "text": [
      "eta_square = 0.4878048780487805\n",
      "q = 3.771072585803293\n",
      "tuckey_hsd = 3.1551056897001084\n"
     ]
    },
    {
     "data": {
      "text/plain": [
       "sc    8.0\n",
       "tw    6.0\n",
       "tr    4.0\n",
       "dtype: float64"
      ]
     },
     "execution_count": 7,
     "metadata": {},
     "output_type": "execute_result"
    }
   ],
   "source": [
    "# 25~26\n",
    "df = pd.DataFrame({\n",
    "    \"sc\": [8, 7, 10, 6, 9],\n",
    "    \"tw\": [4, 6, 7, 4, 9],\n",
    "    \"tr\": [4, 4, 7, 2, 3],\n",
    "})\n",
    "\n",
    "N = 15\n",
    "n = 5\n",
    "k = 3\n",
    "\n",
    "grand_mean = df.values.mean()\n",
    "ss_total = ((df - grand_mean)**2).values.sum()\n",
    "ss_between = ((df.mean() - grand_mean)**2).values.sum() * n\n",
    "ss_within = ss_total - ss_between\n",
    "assert ss_within == ((df - df.mean())**2).values.sum()\n",
    "eta_square = ss_between / ss_total\n",
    "print(f\"eta_square = {eta_square}\")\n",
    "\n",
    "\n",
    "df_within = N - k\n",
    "q = qsturng(1 - 0.05, k, df_within)\n",
    "print(f\"q = {q}\")\n",
    "\n",
    "ms_within = ss_within / df_within\n",
    "\n",
    "tuckey_hsd = q * (ms_within / n )**0.5\n",
    "print(f\"tuckey_hsd = {tuckey_hsd}\")\n",
    "\n",
    "df.mean()"
   ]
  },
  {
   "cell_type": "code",
   "execution_count": 8,
   "id": "b3222349",
   "metadata": {},
   "outputs": [
    {
     "name": "stdout",
     "output_type": "stream",
     "text": [
      "Help on function qsturng in module statsmodels.stats.libqsturng.qsturng_:\n",
      "\n",
      "qsturng(p, r, v)\n",
      "    Approximates the quantile p for a studentized range\n",
      "       distribution having v degrees of freedom and r samples\n",
      "       for probability p.\n",
      "    \n",
      "    Parameters\n",
      "    ----------\n",
      "    p : (scalar, array_like)\n",
      "        The cumulative probability value\n",
      "        p >= .1 and p <=.999\n",
      "        (values under .5 are not recommended)\n",
      "    r : (scalar, array_like)\n",
      "        The number of samples\n",
      "        r >= 2 and r <= 200\n",
      "        (values over 200 are permitted but not recommended)\n",
      "    v : (scalar, array_like)\n",
      "        The sample degrees of freedom\n",
      "        if p >= .9:\n",
      "            v >=1 and v >= inf\n",
      "        else:\n",
      "            v >=2 and v >= inf\n",
      "    \n",
      "    Returns\n",
      "    -------\n",
      "    q : (scalar, array_like)\n",
      "        approximation of the Studentized Range\n",
      "\n"
     ]
    }
   ],
   "source": [
    "help(qsturng)"
   ]
  }
 ],
 "metadata": {
  "kernelspec": {
   "display_name": "Python 3",
   "language": "python",
   "name": "python3"
  },
  "language_info": {
   "codemirror_mode": {
    "name": "ipython",
    "version": 3
   },
   "file_extension": ".py",
   "mimetype": "text/x-python",
   "name": "python",
   "nbconvert_exporter": "python",
   "pygments_lexer": "ipython3",
   "version": "3.8.3"
  }
 },
 "nbformat": 4,
 "nbformat_minor": 5
}
