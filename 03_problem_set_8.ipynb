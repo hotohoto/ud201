{
 "cells": [
  {
   "cell_type": "code",
   "execution_count": 1,
   "metadata": {},
   "outputs": [],
   "source": [
    "import scipy.stats\n",
    "import math\n",
    "import numpy as np\n",
    "import pandas as pd"
   ]
  },
  {
   "cell_type": "code",
   "execution_count": 2,
   "metadata": {},
   "outputs": [
    {
     "name": "stdout",
     "output_type": "stream",
     "text": [
      "[ 9.75957455 14.24042545]\n"
     ]
    }
   ],
   "source": [
    "# 5\n",
    "sigma = 2.8\n",
    "sample = np.array([8,9,12,13,14,16])\n",
    "\n",
    "x_bar = np.average(sample)\n",
    "n = np.size(sample)\n",
    "se = sigma / math.sqrt(n)\n",
    "z_bound = scipy.stats.norm(0, 1).ppf([.025, .975])\n",
    "bound = x_bar + (se * z_bound)\n",
    "print(bound)\n"
   ]
  },
  {
   "cell_type": "code",
   "execution_count": 3,
   "metadata": {},
   "outputs": [
    {
     "name": "stdout",
     "output_type": "stream",
     "text": [
      "[-1.95996398  1.95996398] 2.0 0.0002326290790355401 [-3.91992797  3.91992797] [71.08007203 78.91992797]\n"
     ]
    }
   ],
   "source": [
    "# 6~11\n",
    "mu = 68\n",
    "sigma = 10\n",
    "x_bar = 75\n",
    "n = 25\n",
    "\n",
    "se = sigma / math.sqrt(n)\n",
    "z_bound = scipy.stats.norm(0, 1).ppf([.025, .975])\n",
    "bound = x_bar + (se * z_bound)\n",
    "p_ge_75 = 1 - scipy.stats.norm(mu, se).cdf(75)\n",
    "margin_of_error = se * z_bound\n",
    "print(z_bound, se, p_ge_75, margin_of_error, bound)\n"
   ]
  },
  {
   "cell_type": "code",
   "execution_count": 4,
   "metadata": {},
   "outputs": [
    {
     "name": "stdout",
     "output_type": "stream",
     "text": [
      "[-2.5758293  2.5758293] 6.0 0.20232838096364308 [-15.45497582  15.45497582] [159.54502418 190.45497582]\n"
     ]
    }
   ],
   "source": [
    "# 12~17\n",
    "mu = 180\n",
    "sigma = 18\n",
    "n = 9\n",
    "x_bar = 175\n",
    "\n",
    "se = sigma / math.sqrt(n)\n",
    "z_bound = scipy.stats.norm(0, 1).ppf([.005, .995])\n",
    "bound = x_bar + (se * z_bound)\n",
    "p_le_175 = scipy.stats.norm(mu, se).cdf(175)\n",
    "margin_of_error = se * z_bound\n",
    "print(z_bound, se, p_le_175, margin_of_error, bound)\n"
   ]
  }
 ],
 "metadata": {
  "kernelspec": {
   "display_name": "Python 3",
   "language": "python",
   "name": "python3"
  },
  "language_info": {
   "codemirror_mode": {
    "name": "ipython",
    "version": 3
   },
   "file_extension": ".py",
   "mimetype": "text/x-python",
   "name": "python",
   "nbconvert_exporter": "python",
   "pygments_lexer": "ipython3",
   "version": "3.6.0"
  }
 },
 "nbformat": 4,
 "nbformat_minor": 2
}
