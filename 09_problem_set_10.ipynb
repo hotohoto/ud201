{
 "cells": [
  {
   "cell_type": "code",
   "execution_count": 1,
   "metadata": {},
   "outputs": [],
   "source": [
    "import scipy.stats\n",
    "import numpy as np"
   ]
  },
  {
   "cell_type": "code",
   "execution_count": 2,
   "metadata": {},
   "outputs": [
    {
     "name": "stdout",
     "output_type": "stream",
     "text": [
      "[-3 -1 -2 -3 -5 -2 -5 -2 -4 -3]\n",
      "[ 7.8  4.8 -3. ]\n",
      "-3.0\n"
     ]
    }
   ],
   "source": [
    "#7\n",
    "pretest = np.array([8, 7, 6, 9, 10, 5, 7, 11, 8, 7])\n",
    "posttest = np.array([5, 6, 4, 6, 5, 3, 2, 9, 4, 4])\n",
    "diff = posttest - pretest\n",
    "print(diff)\n",
    "means = np.mean(np.array([pretest, posttest, diff]), axis=1)\n",
    "X_bar = means[2]\n",
    "print(means)\n",
    "print(X_bar)"
   ]
  },
  {
   "cell_type": "code",
   "execution_count": 3,
   "metadata": {},
   "outputs": [
    {
     "name": "stdout",
     "output_type": "stream",
     "text": [
      "-1.8331129326536337\n"
     ]
    }
   ],
   "source": [
    "#8\n",
    "n = diff.shape[0]\n",
    "df = n - 1\n",
    "alpha = .05\n",
    "t_critical = scipy.stats.t(df).ppf(alpha)\n",
    "print(t_critical)"
   ]
  },
  {
   "cell_type": "code",
   "execution_count": 4,
   "metadata": {},
   "outputs": [
    {
     "name": "stdout",
     "output_type": "stream",
     "text": [
      "1.33\n",
      "0.42058292880239445\n"
     ]
    }
   ],
   "source": [
    "#9\n",
    "S = 1.33\n",
    "# S = (np.sum((X_bar - diff) ** 2) / (n - 1))**0.5\n",
    "print(S)\n",
    "SEM = S / n ** 0.5\n",
    "print(SEM)\n"
   ]
  },
  {
   "cell_type": "code",
   "execution_count": 5,
   "metadata": {},
   "outputs": [
    {
     "name": "stdout",
     "output_type": "stream",
     "text": [
      "-7.132957128199352\n"
     ]
    }
   ],
   "source": [
    "#10\n",
    "t = X_bar / SEM\n",
    "print(t)"
   ]
  },
  {
   "cell_type": "code",
   "execution_count": 6,
   "metadata": {},
   "outputs": [
    {
     "name": "stdout",
     "output_type": "stream",
     "text": [
      "-2.255639097744361\n"
     ]
    }
   ],
   "source": [
    "#11\n",
    "cohen_d = X_bar / S\n",
    "print(cohen_d)"
   ]
  },
  {
   "cell_type": "code",
   "execution_count": 7,
   "metadata": {},
   "outputs": [
    {
     "name": "stdout",
     "output_type": "stream",
     "text": [
      "[-2.26215716  2.26215716] 1.33 -3.0 [-3.95142468 -2.04857532]\n"
     ]
    }
   ],
   "source": [
    "d_95 = scipy.stats.t(df).ppf([.025, .975])\n",
    "CI_95 = X_bar + SEM * d_95\n",
    "print(d_95, S, X_bar, CI_95)"
   ]
  }
 ],
 "metadata": {
  "kernelspec": {
   "display_name": "Python 3",
   "language": "python",
   "name": "python3"
  },
  "language_info": {
   "codemirror_mode": {
    "name": "ipython",
    "version": 3
   },
   "file_extension": ".py",
   "mimetype": "text/x-python",
   "name": "python",
   "nbconvert_exporter": "python",
   "pygments_lexer": "ipython3",
   "version": "3.6.0"
  }
 },
 "nbformat": 4,
 "nbformat_minor": 2
}
