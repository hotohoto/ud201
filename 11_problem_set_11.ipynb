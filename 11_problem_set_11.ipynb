{
 "cells": [
  {
   "cell_type": "code",
   "execution_count": 1,
   "metadata": {},
   "outputs": [],
   "source": [
    "import scipy.stats\n",
    "import numpy as np\n",
    "import pandas as pd"
   ]
  },
  {
   "cell_type": "code",
   "execution_count": 2,
   "metadata": {},
   "outputs": [
    {
     "name": "stdout",
     "output_type": "stream",
     "text": [
      "t 15.252789416141766\n",
      "t_critical 1.6828780004112913\n"
     ]
    }
   ],
   "source": [
    "#1\n",
    "X_bar = 3.8\n",
    "Y_bar = 2.1\n",
    "\n",
    "n_X = 18\n",
    "n_Y = 25\n",
    "\n",
    "S_square_pooled = 0.13\n",
    "\n",
    "SEM = (S_square_pooled / n_X + S_square_pooled / n_Y) ** 0.5\n",
    "\n",
    "t = (X_bar - Y_bar) / SEM\n",
    "\n",
    "print('t', t)\n",
    "\n",
    "alpha = 0.05\n",
    "\n",
    "df = n_X + n_Y - 2\n",
    "\n",
    "t_critical = scipy.stats.t(df).ppf(1 - alpha)\n",
    "\n",
    "print('t_critical', t_critical)"
   ]
  },
  {
   "cell_type": "code",
   "execution_count": 3,
   "metadata": {},
   "outputs": [
    {
     "name": "stdout",
     "output_type": "stream",
     "text": [
      "t 2.3090894797690584\n",
      "[-1.98238337  1.98238337]\n"
     ]
    }
   ],
   "source": [
    "#2\n",
    "X1_bar = 12\n",
    "X2_bar = 8\n",
    "n_1 = 52\n",
    "n_2 = 57\n",
    "\n",
    "S_square_pooled = 5.1\n",
    "\n",
    "SEM = (S_square_pooled / n_1 + S_square_pooled / n_2) ** 0.5\n",
    "\n",
    "t = (X1_bar - X2_bar - 3) / SEM\n",
    "print('t', t)\n",
    "\n",
    "alpha = 0.05\n",
    "df = n_1 + n_2 - 2\n",
    "\n",
    "t_critical = scipy.stats.t(df).ppf([alpha/2, 1 - alpha/2])\n",
    "print(t_critical)"
   ]
  },
  {
   "cell_type": "code",
   "execution_count": 4,
   "metadata": {},
   "outputs": [
    {
     "name": "stdout",
     "output_type": "stream",
     "text": [
      "S_square_pooled 1.8894117647058823\n",
      "t 31.555027166862935\n",
      "t_critical [-2.58744672  2.58744672]\n"
     ]
    }
   ],
   "source": [
    "#3\n",
    "\n",
    "X1_bar = 35.8\n",
    "X2_bar = 31.6\n",
    "\n",
    "n1 = 207\n",
    "n2 = 220\n",
    "\n",
    "SS1 = 481\n",
    "SS2 = 322\n",
    "\n",
    "df1 = n1 - 1\n",
    "df2 = n2 - 1\n",
    "S_square_pooled = (SS1 + SS2) / (df1 + df2)\n",
    "print('S_square_pooled', S_square_pooled)\n",
    "\n",
    "df = df1 + df2\n",
    "\n",
    "SEM = (S_square_pooled/n1 + S_square_pooled/n2)**0.5\n",
    "t = (X1_bar - X2_bar) / SEM\n",
    "print('t', t)\n",
    "\n",
    "alpha = 0.01\n",
    "t_critical = scipy.stats.t(df).ppf([alpha/2, 1 - alpha/2])\n",
    "print('t_critical', t_critical)"
   ]
  },
  {
   "cell_type": "code",
   "execution_count": 5,
   "metadata": {},
   "outputs": [
    {
     "name": "stdout",
     "output_type": "stream",
     "text": [
      "t_critical 1.7138715277470473\n",
      "t 3.0268119786325056\n",
      "t 0.5914313906185947\n"
     ]
    }
   ],
   "source": [
    "#4\n",
    "alpha = 0.05\n",
    "N = 25 # total num of data points across the two groups (samples)\n",
    "df = 25 - 2\n",
    "t_critical = scipy.stats.t(df).ppf(1 - alpha)\n",
    "\n",
    "print('t_critical', t_critical)\n",
    "\n",
    "#5\n",
    "p = 0.003\n",
    "t = scipy.stats.t(df).ppf(1 - p)\n",
    "print('t', t)\n",
    "\n",
    "#6\n",
    "p = 0.28\n",
    "t = scipy.stats.t(df).ppf(1 - p)\n",
    "print('t', t)"
   ]
  },
  {
   "cell_type": "code",
   "execution_count": 6,
   "metadata": {},
   "outputs": [
    {
     "name": "stdout",
     "output_type": "stream",
     "text": [
      "t 0.7751937984496123\n"
     ]
    }
   ],
   "source": [
    "#7\n",
    "X1_bar = 9\n",
    "X2_bar = 8\n",
    "\n",
    "SEM = 1.29\n",
    "\n",
    "t = (X1_bar - X2_bar) / SEM\n",
    "print('t', t)\n"
   ]
  },
  {
   "cell_type": "code",
   "execution_count": 7,
   "metadata": {},
   "outputs": [
    {
     "name": "stdout",
     "output_type": "stream",
     "text": [
      "X_bar, Y_bar 3.0 12.0\n",
      "d_X [-1. -6.  2.  1.  4.]\n",
      "d_sq_X [ 1. 36.  4.  1. 16.]\n",
      "SS_X 58.0\n",
      "d_Y [-2.  1.  3. -2.]\n",
      "d_sq_Y [4. 1. 9. 4.]\n",
      "SS_Y 18.0\n",
      "S_square_pooled 10.857142857142858\n",
      "SEM 2.210365192839022\n",
      "t -4.071725355229776\n",
      "t_critical [-3.4994833  3.4994833]\n"
     ]
    }
   ],
   "source": [
    "#9\n",
    "X = np.array([2, -3, 5, 4, 7])\n",
    "Y = np.array([10, 13, 15, 10])\n",
    "\n",
    "X_bar = np.mean(X)\n",
    "Y_bar = np.mean(Y)\n",
    "print('X_bar, Y_bar', X_bar, Y_bar)\n",
    "\n",
    "d_X = X - X_bar\n",
    "d_sq_X = d_X ** 2\n",
    "SS_X = np.sum(d_sq_X)\n",
    "d_Y = Y - Y_bar\n",
    "d_sq_Y = d_Y ** 2\n",
    "SS_Y = np.sum(d_sq_Y)\n",
    "print('d_X', d_X)\n",
    "print('d_sq_X', d_sq_X)\n",
    "print('SS_X', SS_X)\n",
    "print('d_Y', d_Y)\n",
    "print('d_sq_Y', d_sq_Y)\n",
    "print('SS_Y', SS_Y)\n",
    "\n",
    "n_X = X.shape[0]\n",
    "n_Y = Y.shape[0]\n",
    "\n",
    "df_X = n_X - 1\n",
    "df_Y = n_Y - 1\n",
    "\n",
    "#10\n",
    "S_square_pooled = (SS_X + SS_Y) / (df_X + df_Y)\n",
    "print('S_square_pooled', S_square_pooled)\n",
    "\n",
    "#11\n",
    "SEM = (S_square_pooled / n_X + S_square_pooled / n_Y) ** 0.5\n",
    "print('SEM', SEM)\n",
    "\n",
    "#12\n",
    "t = (X_bar - Y_bar) / SEM\n",
    "print('t', t)\n",
    "\n",
    "df = df_X + df_Y\n",
    "\n",
    "#13\n",
    "alpha = 0.01\n",
    "t_critical = scipy.stats.t(df).ppf([alpha/2, 1 - alpha/2])\n",
    "print('t_critical', t_critical)"
   ]
  },
  {
   "cell_type": "code",
   "execution_count": 8,
   "metadata": {},
   "outputs": [
    {
     "name": "stdout",
     "output_type": "stream",
     "text": [
      "t_critical [-2.10092204  2.10092204]\n",
      "t 3.191489361702128\n",
      "cohen_d 1.2875536480686696\n",
      "r_square 0.3613761202659729\n"
     ]
    }
   ],
   "source": [
    "#14~22\n",
    "n_t = 10\n",
    "n_p = 10\n",
    "\n",
    "df_r = 9\n",
    "df_p = 9\n",
    "df = 18\n",
    "\n",
    "alpha = 0.05\n",
    "t_critical = scipy.stats.t(df).ppf([alpha/2, 1-alpha/2])\n",
    "print('t_critical', t_critical)\n",
    "\n",
    "X_bar_r = 10\n",
    "X_bar_p = 7\n",
    "SEM = 0.94\n",
    "\n",
    "t = (X_bar_r - X_bar_p) / SEM\n",
    "print('t', t)\n",
    "\n",
    "S_pooled = 2.33\n",
    "cohen_d = (X_bar_r - X_bar_p) / S_pooled\n",
    "print('cohen_d', cohen_d)\n",
    "\n",
    "r_square = t ** 2 / (t ** 2 + df)\n",
    "print('r_square', r_square)"
   ]
  }
 ],
 "metadata": {
  "kernelspec": {
   "display_name": "Python 3",
   "language": "python",
   "name": "python3"
  },
  "language_info": {
   "codemirror_mode": {
    "name": "ipython",
    "version": 3
   },
   "file_extension": ".py",
   "mimetype": "text/x-python",
   "name": "python",
   "nbconvert_exporter": "python",
   "pygments_lexer": "ipython3",
   "version": "3.6.0"
  }
 },
 "nbformat": 4,
 "nbformat_minor": 2
}
