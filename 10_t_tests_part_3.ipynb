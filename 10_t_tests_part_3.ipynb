{
 "cells": [
  {
   "cell_type": "code",
   "execution_count": 1,
   "metadata": {},
   "outputs": [],
   "source": [
    "import scipy.stats\n",
    "import numpy as np\n",
    "import pandas as pd"
   ]
  },
  {
   "cell_type": "code",
   "execution_count": 2,
   "metadata": {},
   "outputs": [],
   "source": [
    "#3~10\n",
    "samples = pd.read_csv('food_prices.csv').as_matrix().T"
   ]
  },
  {
   "cell_type": "code",
   "execution_count": 3,
   "metadata": {},
   "outputs": [
    {
     "name": "stdout",
     "output_type": "stream",
     "text": [
      "8.944444444444445 11.142857142857142\n"
     ]
    }
   ],
   "source": [
    "#4\n",
    "[gettysburg, wilma] = samples\n",
    "gettysburg = gettysburg[~np.isnan(gettysburg)]\n",
    "wilma = wilma[~np.isnan(wilma)]\n",
    "\n",
    "X_bar_gettysburg = np.mean(gettysburg)\n",
    "X_bar_wilma = np.mean(wilma)\n",
    "print(X_bar_gettysburg, X_bar_wilma)"
   ]
  },
  {
   "cell_type": "code",
   "execution_count": 4,
   "metadata": {},
   "outputs": [
    {
     "name": "stdout",
     "output_type": "stream",
     "text": [
      "2.6451336499586917 2.178819117607689\n"
     ]
    }
   ],
   "source": [
    "#5\n",
    "n_gettysburg = gettysburg.shape[0]\n",
    "S_gettysburg = (np.sum((gettysburg - X_bar_gettysburg)**2) / (n_gettysburg - 1)) ** 0.5\n",
    "\n",
    "n_wilma = wilma.shape[0]\n",
    "S_wilma = (np.sum((wilma - X_bar_wilma)**2) / (n_wilma - 1)) ** 0.5\n",
    "print(S_gettysburg, S_wilma)"
   ]
  },
  {
   "cell_type": "code",
   "execution_count": 5,
   "metadata": {},
   "outputs": [
    {
     "name": "stdout",
     "output_type": "stream",
     "text": [
      "0.8531100847677228\n"
     ]
    }
   ],
   "source": [
    "#6\n",
    "S_diff = (S_gettysburg ** 2 / n_gettysburg + S_wilma ** 2 / n_wilma)**0.5\n",
    "print(S_diff)"
   ]
  },
  {
   "cell_type": "code",
   "execution_count": 6,
   "metadata": {},
   "outputs": [
    {
     "name": "stdout",
     "output_type": "stream",
     "text": [
      "[-2.576939058235681, 2.576939058235681]\n"
     ]
    }
   ],
   "source": [
    "#8\n",
    "_t = (X_bar_gettysburg - X_bar_wilma) / S_diff\n",
    "t = [_t, -_t]\n",
    "print(t)"
   ]
  },
  {
   "cell_type": "code",
   "execution_count": 7,
   "metadata": {},
   "outputs": [
    {
     "name": "stdout",
     "output_type": "stream",
     "text": [
      "[-2.04227246  2.04227246]\n"
     ]
    }
   ],
   "source": [
    "#9\n",
    "df = n_gettysburg + n_wilma - 2\n",
    "alpha = 0.05\n",
    "print(scipy.stats.t(df).ppf([alpha/2, 1 - alpha/2]))"
   ]
  },
  {
   "cell_type": "code",
   "execution_count": 8,
   "metadata": {},
   "outputs": [
    {
     "name": "stdout",
     "output_type": "stream",
     "text": [
      "0.015129465152751376\n"
     ]
    }
   ],
   "source": [
    "#10\n",
    "_p = scipy.stats.t(df).cdf(t)\n",
    "p = _p[0] + 1-_p[1]\n",
    "print(p)"
   ]
  },
  {
   "cell_type": "code",
   "execution_count": 9,
   "metadata": {},
   "outputs": [
    {
     "name": "stdout",
     "output_type": "stream",
     "text": [
      "0.33499999999999996 0.08893818077743663 6\n",
      "0.312 0.10158740079360236 5\n",
      "[0.39547554497329196, -0.39547554497329196]\n"
     ]
    }
   ],
   "source": [
    "#11~14 Acne medication\n",
    "\n",
    "#12\n",
    "A = np.array([.4, .36, .2, .32, .45, .28])\n",
    "B = np.array([.41, .39, .18, .23, .35])\n",
    "\n",
    "X_bar_A = np.mean(A)\n",
    "S_A = np.std(A, ddof=1)\n",
    "n_A = A.shape[0]\n",
    "print(X_bar_A, S_A, n_A)\n",
    "\n",
    "X_bar_B = np.mean(B)\n",
    "S_B = np.std(B, ddof=1)\n",
    "n_B = B.shape[0]\n",
    "print(X_bar_B, S_B, n_B)\n",
    "\n",
    "S = (S_A**2 / n_A + S_B**2 / n_B) ** 0.5\n",
    "_t = (X_bar_A - X_bar_B) / S\n",
    "t = [_t, -_t]\n",
    "print(t)"
   ]
  },
  {
   "cell_type": "code",
   "execution_count": 10,
   "metadata": {},
   "outputs": [
    {
     "name": "stdout",
     "output_type": "stream",
     "text": [
      "[-2.26215716  2.26215716]\n"
     ]
    }
   ],
   "source": [
    "#13\n",
    "alpha = 0.05\n",
    "df = n_A + n_B - 2\n",
    "t_critical = scipy.stats.t(df).ppf([alpha/2, 1 - alpha/2])\n",
    "print(t_critical)"
   ]
  },
  {
   "cell_type": "code",
   "execution_count": 11,
   "metadata": {},
   "outputs": [
    {
     "name": "stdout",
     "output_type": "stream",
     "text": [
      "[[ 90.  28.  30.  10.   5.   9.  60.  nan  nan  nan  nan]\n",
      " [  4. 120.   5.   3.  10.   3.   5.  13.   4.  10.  21.]]\n"
     ]
    }
   ],
   "source": [
    "#15~22 Who has more shoes\n",
    "samples = pd.read_csv('shoes.csv').as_matrix().T\n",
    "print(samples)"
   ]
  },
  {
   "cell_type": "code",
   "execution_count": 12,
   "metadata": {},
   "outputs": [
    {
     "name": "stdout",
     "output_type": "stream",
     "text": [
      "[90. 28. 30. 10.  5.  9. 60.] [  4. 120.   5.   3.  10.   3.   5.  13.   4.  10.  21.]\n",
      "33.142857142857146 31.360423952430722 7\n",
      "18.0 34.27243790569909 11\n"
     ]
    }
   ],
   "source": [
    "#16\n",
    "[female, male] = samples\n",
    "female = female[~np.isnan(female)]\n",
    "male = male[~np.isnan(male)]\n",
    "\n",
    "print(female, male)\n",
    "\n",
    "X_bar_F = np.mean(female)\n",
    "S_F = np.std(female, ddof=1)\n",
    "n_F = female.shape[0]\n",
    "print(X_bar_F, S_F, n_F)\n",
    "\n",
    "X_bar_M = np.mean(male)\n",
    "S_M = np.std(male, ddof=1)\n",
    "n_M = male.shape[0]\n",
    "print(X_bar_M, S_M, n_M)"
   ]
  },
  {
   "cell_type": "code",
   "execution_count": 13,
   "metadata": {},
   "outputs": [
    {
     "name": "stdout",
     "output_type": "stream",
     "text": [
      "15.725088769901236\n"
     ]
    }
   ],
   "source": [
    "#17\n",
    "S = (S_F**2/n_F + S_M**2/n_M)**0.5\n",
    "print(S)"
   ]
  },
  {
   "cell_type": "code",
   "execution_count": 14,
   "metadata": {},
   "outputs": [
    {
     "name": "stdout",
     "output_type": "stream",
     "text": [
      "[-0.9629743503795974, 0.9629743503795974]\n",
      "0.6818538764945508\n"
     ]
    }
   ],
   "source": [
    "#18\n",
    "_t = (X_bar_F - X_bar_M) / S\n",
    "t = [-_t, _t]\n",
    "print(t)\n",
    "df = n_F + n_M - 2\n",
    "_p = scipy.stats.t(df).cdf([alpha/2, 1 - alpha/2])\n",
    "p = _p[0] + 1 - _p[1]\n",
    "print(p)"
   ]
  },
  {
   "cell_type": "code",
   "execution_count": 15,
   "metadata": {},
   "outputs": [
    {
     "name": "stdout",
     "output_type": "stream",
     "text": [
      "[-2.1199053  2.1199053]\n"
     ]
    }
   ],
   "source": [
    "#19\n",
    "alpha = 0.05\n",
    "t_critical = scipy.stats.t(df).ppf([alpha/2, 1 - alpha/2])\n",
    "print(t_critical)"
   ]
  },
  {
   "cell_type": "code",
   "execution_count": 16,
   "metadata": {},
   "outputs": [
    {
     "name": "stdout",
     "output_type": "stream",
     "text": [
      "[-15.142857142857146, 15.142857142857146]\n",
      "15.725088769901236\n",
      "[-2.1199053  2.1199053]\n"
     ]
    }
   ],
   "source": [
    "#20\n",
    "X_bar = [X_bar_M - X_bar_F, X_bar_F - X_bar_M]\n",
    "print(X_bar)\n",
    "print(S)\n",
    "print(t_critical)"
   ]
  },
  {
   "cell_type": "code",
   "execution_count": 17,
   "metadata": {},
   "outputs": [
    {
     "name": "stdout",
     "output_type": "stream",
     "text": [
      "[-18.19284187  48.47855616]\n"
     ]
    }
   ],
   "source": [
    "#21\n",
    "CI_95 = [X_bar[0] + S*t_critical, X_bar[1] + S*t_critical]\n",
    "print(CI_95[1])"
   ]
  },
  {
   "cell_type": "code",
   "execution_count": 18,
   "metadata": {},
   "outputs": [
    {
     "name": "stdout",
     "output_type": "stream",
     "text": [
      "[-0.9629743503795974, 0.9629743503795974]\n",
      "0.05478242400037163\n"
     ]
    }
   ],
   "source": [
    "#22\n",
    "print(t)\n",
    "r_square = t[0] ** 2 / (t[0] ** 2 + df)\n",
    "print(r_square)"
   ]
  },
  {
   "cell_type": "code",
   "execution_count": 19,
   "metadata": {},
   "outputs": [
    {
     "name": "stdout",
     "output_type": "stream",
     "text": [
      "[ 3.  4. -1. -6.] [ 9. 16.  1. 36.] 62.0\n",
      "[-3.  1.  2.] [9. 1. 4.] 14.0\n"
     ]
    }
   ],
   "source": [
    "#23~ Corrected SEM with Pooled variance\n",
    "\n",
    "#23\n",
    "X = np.array([5, 6, 1, -4])\n",
    "Y = np.array([3, 7, 8])\n",
    "\n",
    "X_bar = np.mean(X)\n",
    "SS_X = np.sum((X - X_bar) ** 2)\n",
    "print(X - X_bar, (X - X_bar) ** 2, SS_X)\n",
    "\n",
    "Y_bar = np.mean(Y)\n",
    "SS_Y = np.sum((Y - Y_bar) ** 2)\n",
    "print(Y - Y_bar, (Y - Y_bar) ** 2, SS_Y)\n"
   ]
  },
  {
   "cell_type": "code",
   "execution_count": 20,
   "metadata": {},
   "outputs": [
    {
     "name": "stdout",
     "output_type": "stream",
     "text": [
      "15.2\n"
     ]
    }
   ],
   "source": [
    "#24\n",
    "n_X = X.shape[0]\n",
    "n_Y = Y.shape[0]\n",
    "df_X = n_X - 1\n",
    "df_Y = n_Y - 1\n",
    "S_square_pooled = (SS_X + SS_Y) / (df_X + df_Y)\n",
    "print(S_square_pooled)"
   ]
  },
  {
   "cell_type": "code",
   "execution_count": 21,
   "metadata": {},
   "outputs": [
    {
     "name": "stdout",
     "output_type": "stream",
     "text": [
      "2.9776948578836393\n"
     ]
    }
   ],
   "source": [
    "#25 \n",
    "SEM = (S_square_pooled / n_X + S_square_pooled / n_Y) ** 0.5\n",
    "print(SEM)"
   ]
  },
  {
   "cell_type": "code",
   "execution_count": 22,
   "metadata": {},
   "outputs": [
    {
     "name": "stdout",
     "output_type": "stream",
     "text": [
      "[-1.343320988518935, 1.343320988518935]\n"
     ]
    }
   ],
   "source": [
    "#26\n",
    "_t = (X_bar - Y_bar) / SEM\n",
    "t = [_t, -_t]\n",
    "print(t)"
   ]
  },
  {
   "cell_type": "code",
   "execution_count": 23,
   "metadata": {},
   "outputs": [
    {
     "name": "stdout",
     "output_type": "stream",
     "text": [
      "[-2.57058184  2.57058184]\n"
     ]
    }
   ],
   "source": [
    "#27\n",
    "df = n_X + n_Y - 2\n",
    "alpha = 0.05\n",
    "t_critical = scipy.stats.t(df).ppf([alpha/2, 1 - alpha/2])\n",
    "print(t_critical)"
   ]
  }
 ],
 "metadata": {
  "kernelspec": {
   "display_name": "Python 3",
   "language": "python",
   "name": "python3"
  },
  "language_info": {
   "codemirror_mode": {
    "name": "ipython",
    "version": 3
   },
   "file_extension": ".py",
   "mimetype": "text/x-python",
   "name": "python",
   "nbconvert_exporter": "python",
   "pygments_lexer": "ipython3",
   "version": "3.6.0"
  }
 },
 "nbformat": 4,
 "nbformat_minor": 2
}
