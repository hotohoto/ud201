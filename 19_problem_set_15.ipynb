{
 "cells": [
  {
   "cell_type": "code",
   "execution_count": 1,
   "id": "dff31a34",
   "metadata": {},
   "outputs": [],
   "source": [
    "import matplotlib.pyplot as plt\n",
    "import numpy as np\n",
    "import pandas as pd\n",
    "from scipy.stats import pearsonr, t"
   ]
  },
  {
   "cell_type": "code",
   "execution_count": 2,
   "id": "b23212a1",
   "metadata": {},
   "outputs": [
    {
     "name": "stdout",
     "output_type": "stream",
     "text": [
      "slope = 0.5722511760457536\n",
      "r_squared = 0.8732248934607991\n",
      "y_intercept = -2.2487165973726846\n",
      "x_value = 126.25350479244125\n",
      "x_intercept = 3.9295971620561447\n"
     ]
    }
   ],
   "source": [
    "#1-6\n",
    "df = pd.read_csv(\"vision_and_stem_cells.csv\")\n",
    "col_x = \"Number of stem cells\"\n",
    "col_y = \"Photoreceptor activity\"\n",
    "r, p = pearsonr(df[col_x], df[col_y])\n",
    "slope = r * df[col_y].std() / df[col_x].std()\n",
    "print(f\"slope = {slope}\")\n",
    "\n",
    "r_squared = r**2\n",
    "print(f\"r_squared = {r_squared}\")\n",
    "\n",
    "y_intercept = df[col_y].mean() - slope*df[col_x].mean()\n",
    "print(f\"y_intercept = {y_intercept}\")\n",
    "\n",
    "x_value = (70 - y_intercept) / slope\n",
    "print(f\"x_value = {x_value}\")\n",
    "\n",
    "x_intercept = (0 - y_intercept) / slope\n",
    "print(f\"x_intercept = {x_intercept}\")"
   ]
  },
  {
   "cell_type": "code",
   "execution_count": 3,
   "id": "4377038b",
   "metadata": {},
   "outputs": [
    {
     "name": "stdout",
     "output_type": "stream",
     "text": [
      "x=10: (2.85, -0.6499999999999999, 6.35)\n",
      "x=5: (2.6, -0.8999999999999999, 6.1)\n",
      "x=0: (2.35, -1.15, 5.85)\n",
      "x=20; (3.35, -0.1499999999999999, 6.85)\n"
     ]
    }
   ],
   "source": [
    "#11-12\n",
    "def y_hat(x):\n",
    "    pred = 2.35 + 0.05*x\n",
    "    sigma = 3.5\n",
    "    return pred, pred-3.5, pred+3.5\n",
    "\n",
    "print(\"x=10:\", y_hat(10))\n",
    "print(\"x=5:\", y_hat(5))\n",
    "print(\"x=0:\", y_hat(0))\n",
    "print(\"x=20;\", y_hat(20))"
   ]
  }
 ],
 "metadata": {
  "kernelspec": {
   "display_name": "Python 3",
   "language": "python",
   "name": "python3"
  },
  "language_info": {
   "codemirror_mode": {
    "name": "ipython",
    "version": 3
   },
   "file_extension": ".py",
   "mimetype": "text/x-python",
   "name": "python",
   "nbconvert_exporter": "python",
   "pygments_lexer": "ipython3",
   "version": "3.8.3"
  }
 },
 "nbformat": 4,
 "nbformat_minor": 5
}
