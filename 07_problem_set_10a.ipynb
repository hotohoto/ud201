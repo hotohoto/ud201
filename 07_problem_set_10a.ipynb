{
 "cells": [
  {
   "cell_type": "code",
   "execution_count": 1,
   "metadata": {},
   "outputs": [],
   "source": [
    "import scipy.stats\n",
    "import numpy as np"
   ]
  },
  {
   "cell_type": "code",
   "execution_count": 2,
   "metadata": {},
   "outputs": [
    {
     "name": "stdout",
     "output_type": "stream",
     "text": [
      "Quiz 9: 1.646380345427535\n",
      "Quiz 10: 9 2.9546573405388314\n",
      "Quiz 11: 96.32419486019033\n"
     ]
    }
   ],
   "source": [
    "# 3~11\n",
    "n = 1000\n",
    "degree_of_freedom = 999\n",
    "x_bar_4 = 3\n",
    "sigma_4 = 1.2\n",
    "\n",
    "x_bar_8 = 12\n",
    "sigma_8 = 2.7\n",
    "\n",
    "alpha = 0.05\n",
    "t_critical_value = scipy.stats.t(degree_of_freedom).ppf(1-alpha)\n",
    "print('Quiz 9:', t_critical_value)\n",
    "\n",
    "x_bar = x_bar_8 - x_bar_4\n",
    "sigma = (sigma_8**2 + sigma_4**2)**0.5\n",
    "\n",
    "print('Quiz 10:', x_bar, sigma)\n",
    "\n",
    "t_value = x_bar / (sigma / n ** 0.5)\n",
    "print('Quiz 11:', t_value)"
   ]
  }
 ],
 "metadata": {
  "kernelspec": {
   "display_name": "Python 3",
   "language": "python",
   "name": "python3"
  },
  "language_info": {
   "codemirror_mode": {
    "name": "ipython",
    "version": 3
   },
   "file_extension": ".py",
   "mimetype": "text/x-python",
   "name": "python",
   "nbconvert_exporter": "python",
   "pygments_lexer": "ipython3",
   "version": "3.6.0"
  }
 },
 "nbformat": 4,
 "nbformat_minor": 2
}
