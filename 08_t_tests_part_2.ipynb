{
 "cells": [
  {
   "cell_type": "code",
   "execution_count": 1,
   "metadata": {},
   "outputs": [],
   "source": [
    "import scipy.stats\n",
    "import numpy as np"
   ]
  },
  {
   "cell_type": "code",
   "execution_count": 19,
   "metadata": {},
   "outputs": [
    {
     "name": "stdout",
     "output_type": "stream",
     "text": [
      "t_critical_value: -1.7108820799094282\n",
      "SEM: 10.0\n",
      "mean_diff: -25\n",
      "t statistic: -2.5\n",
      "p value: 0.009827087558289377\n",
      "cohen's d: -0.5\n",
      "r square: 0.2066115702479339\n",
      "margin of errors for CI: [-20.63898562  20.63898562]\n",
      "ci 95 [105.36101438 146.63898562]\n"
     ]
    }
   ],
   "source": [
    "# one tail test\n",
    "n = 25\n",
    "df = n - 1\n",
    "alpha = .05\n",
    "\n",
    "mu = 151 # we assume our population mean as this value\n",
    "\n",
    "t_critical_value = scipy.stats.t(df).ppf(alpha)\n",
    "print('t_critical_value:', t_critical_value)\n",
    "\n",
    "S = 50 # sample standard deviation\n",
    "SEM = S / n ** 0.5\n",
    "print('SEM:', SEM)\n",
    "\n",
    "X_bar = 126\n",
    "mean_diff = X_bar - mu\n",
    "print('mean_diff:', mean_diff)\n",
    "\n",
    "t = mean_diff / SEM\n",
    "print('t statistic:', t)\n",
    "\n",
    "p = scipy.stats.t(df).cdf(t)\n",
    "print('p value:', p)\n",
    "\n",
    "cohen_d = mean_diff / S\n",
    "print('cohen\\'s d:', cohen_d)\n",
    "\n",
    "r_square = t ** 2 / (t ** 2 + df)\n",
    "print('r square:', r_square)\n",
    "\n",
    "\n",
    "# 95% CI\n",
    "t_critical_values_ci = scipy.stats.t(df).ppf([.025, .975])\n",
    "margin_of_errors = t_critical_values_ci * SEM\n",
    "print('margin of errors for CI:', margin_of_errors)\n",
    "ci_95 = t_critical_values_ci * SEM + X_bar\n",
    "\n",
    "print('ci 95', ci_95)\n",
    "\n",
    "\n"
   ]
  },
  {
   "cell_type": "code",
   "execution_count": null,
   "metadata": {},
   "outputs": [],
   "source": []
  }
 ],
 "metadata": {
  "kernelspec": {
   "display_name": "Python 3",
   "language": "python",
   "name": "python3"
  },
  "language_info": {
   "codemirror_mode": {
    "name": "ipython",
    "version": 3
   },
   "file_extension": ".py",
   "mimetype": "text/x-python",
   "name": "python",
   "nbconvert_exporter": "python",
   "pygments_lexer": "ipython3",
   "version": "3.6.0"
  }
 },
 "nbformat": 4,
 "nbformat_minor": 2
}
