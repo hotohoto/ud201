{
 "cells": [
  {
   "cell_type": "code",
   "execution_count": 1,
   "id": "dff31a34",
   "metadata": {},
   "outputs": [],
   "source": [
    "import matplotlib.pyplot as plt\n",
    "import numpy as np\n",
    "import pandas as pd\n",
    "from scipy.stats import chisquare, chi2"
   ]
  },
  {
   "cell_type": "code",
   "execution_count": 2,
   "id": "be281962",
   "metadata": {},
   "outputs": [
    {
     "name": "stdout",
     "output_type": "stream",
     "text": [
      "chi_square_value=2.8946178199909545\n",
      "p=0.08887585044058065\n",
      "critical_05=3.841458820694124\n",
      "critical_01=6.6348966010212145\n"
     ]
    }
   ],
   "source": [
    "#16\n",
    "expected = np.array([33, 67])\n",
    "observed = np.array([41, 59])\n",
    "\n",
    "chi_square_value = ((expected - observed)**2 / expected).sum()\n",
    "print(f\"chi_square_value={chi_square_value}\")\n",
    "k = 2 - 1\n",
    "chi_rv = chi2(k)\n",
    "p = chi_rv.sf(chi_square_value)\n",
    "critical_05 = chi_rv.ppf(0.95)\n",
    "critical_01 = chi_rv.ppf(0.99)\n",
    "\n",
    "print(f\"p={p}\")\n",
    "print(f\"critical_05={critical_05}\")\n",
    "print(f\"critical_01={critical_01}\")\n",
    "\n",
    "ret = chisquare(observed, expected)\n",
    "assert ret.statistic == chi_square_value\n",
    "assert ret.pvalue == p"
   ]
  },
  {
   "cell_type": "code",
   "execution_count": 3,
   "id": "7b7bcb4c",
   "metadata": {},
   "outputs": [
    {
     "name": "stdout",
     "output_type": "stream",
     "text": [
      "chi_square_value=7.779994300370478\n",
      "(degree of freedom)=2\n",
      "p=0.02044540430346961\n",
      "critical=5.991464547107979\n",
      "(Crammér's V)=0.22774246127838463\n"
     ]
    }
   ],
   "source": [
    "#19-25\n",
    "\n",
    "observed_yes = np.array([7, 16, 6])\n",
    "observed_no = 50 - observed_yes\n",
    "observed_all = np.hstack((observed_yes, observed_no))\n",
    "\n",
    "N_yes = observed_yes.sum()\n",
    "N_no = observed_no.sum()\n",
    "N_all = N_yes + N_no\n",
    "\n",
    "expected_yes = np.ones(3) * (N_yes * 50 / N_all)\n",
    "expected_no = np.ones(3) * (N_no * 50 / N_all)\n",
    "expected_all = np.hstack((expected_yes, expected_no))\n",
    "\n",
    "chi_square_value = ((expected_all - observed_all)**2 / expected_all).sum()\n",
    "print(f\"chi_square_value={chi_square_value}\")\n",
    "\n",
    "k = (3 - 1) * (2 - 1)\n",
    "print(f\"(degree of freedom)={k}\")\n",
    "chi_rv = chi2(k)\n",
    "p = chi_rv.sf(chi_square_value)\n",
    "critical = chi_rv.ppf(0.95)\n",
    "\n",
    "print(f\"p={p}\")\n",
    "print(f\"critical={critical}\")\n",
    "ret = chisquare(observed_all, expected_all, ddof=len(observed_all) - k - 1)\n",
    "assert ret.statistic == chi_square_value\n",
    "assert ret.pvalue == p\n",
    "\n",
    "V = (chi_square_value / N_all * (min(3, 2) - 1))**0.5\n",
    "print(f\"(Crammér's V)={V}\")"
   ]
  }
 ],
 "metadata": {
  "kernelspec": {
   "display_name": "Python 3",
   "language": "python",
   "name": "python3"
  },
  "language_info": {
   "codemirror_mode": {
    "name": "ipython",
    "version": 3
   },
   "file_extension": ".py",
   "mimetype": "text/x-python",
   "name": "python",
   "nbconvert_exporter": "python",
   "pygments_lexer": "ipython3",
   "version": "3.8.3"
  }
 },
 "nbformat": 4,
 "nbformat_minor": 5
}
