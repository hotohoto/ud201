{
 "cells": [
  {
   "cell_type": "code",
   "execution_count": 1,
   "id": "679dfb14",
   "metadata": {},
   "outputs": [],
   "source": [
    "import numpy as np\n",
    "import pandas as pd\n",
    "from scipy.stats import f\n",
    "from statsmodels.stats.libqsturng import qsturng"
   ]
  },
  {
   "cell_type": "code",
   "execution_count": 2,
   "id": "60b48968",
   "metadata": {},
   "outputs": [
    {
     "name": "stdout",
     "output_type": "stream",
     "text": [
      "grand_mean = 6.0\n",
      "group_means:\n",
      "A    3.0\n",
      "B    6.0\n",
      "C    9.0\n",
      "dtype: float64\n",
      "ss_between = 54.0\n",
      "ss_within = 6.0\n",
      "ss_total = 60.0\n",
      "df_between = 2\n",
      "df_within = 6\n",
      "ms_between = 27.0\n",
      "ms_within = 1.0\n",
      "f = 27.0\n",
      "f_critical = 5.143252849784718\n",
      "cdf(f_critical) = 0.95\n"
     ]
    }
   ],
   "source": [
    "#1~12\n",
    "\n",
    "df = pd.DataFrame({\n",
    "    \"A\": [2, 4, 3],\n",
    "    \"B\": [6, 5, 7],\n",
    "    \"C\": [8, 9, 10],\n",
    "})\n",
    "\n",
    "grand_mean = df.values.mean()\n",
    "print(f\"grand_mean = {grand_mean}\")\n",
    "\n",
    "group_means = df.mean()\n",
    "print(f\"group_means:\\n{group_means}\")\n",
    "\n",
    "n = 3\n",
    "N = 9\n",
    "k = 3\n",
    "\n",
    "ss_between = (n*(group_means - grand_mean)**2).sum()\n",
    "print(f\"ss_between = {ss_between}\")\n",
    "\n",
    "ss_within = ((df - group_means).values**2).sum()\n",
    "print(f\"ss_within = {ss_within}\")\n",
    "\n",
    "ss_total = ((df - grand_mean).values**2).sum()\n",
    "print(f\"ss_total = {ss_total}\")\n",
    "\n",
    "assert ss_total == ss_between + ss_within\n",
    "\n",
    "df_between = k - 1\n",
    "print(f\"df_between = {df_between}\")\n",
    "\n",
    "df_within = k * (n - 1)\n",
    "print(f\"df_within = {df_within}\")\n",
    "\n",
    "ms_between = ss_between / df_between\n",
    "print(f\"ms_between = {ms_between}\")\n",
    "\n",
    "ms_within = ss_within / df_within\n",
    "print(f\"ms_within = {ms_within}\")\n",
    "\n",
    "f_value = ms_between / ms_within\n",
    "print(f\"f = {f_value}\")\n",
    "\n",
    "\n",
    "rv_f = f(df_between, df_within)\n",
    "f_critical = rv_f.ppf(1 - 0.05)\n",
    "print(f\"f_critical = {f_critical}\")\n",
    "print(f\"cdf(f_critical) = {rv_f.cdf(f_critical)}\")"
   ]
  },
  {
   "cell_type": "code",
   "execution_count": 3,
   "id": "f063be13",
   "metadata": {},
   "outputs": [
    {
     "name": "stdout",
     "output_type": "stream",
     "text": [
      "q = 4.334134194003913\n",
      "tuckey_hsd = 2.5023135436121207\n"
     ]
    }
   ],
   "source": [
    "#14~15\n",
    "q = qsturng(1 - 0.05, k, df_within)\n",
    "print(f\"q = {q}\")\n",
    "      \n",
    "tuckey_hsd = q * (ms_within / n)**0.5\n",
    "print(f\"tuckey_hsd = {tuckey_hsd}\")"
   ]
  },
  {
   "cell_type": "code",
   "execution_count": 4,
   "id": "fcfc2be5",
   "metadata": {},
   "outputs": [
    {
     "name": "stdout",
     "output_type": "stream",
     "text": [
      "cohens_d_AB = -3.0\n",
      "cohens_d_BC = -3.0\n",
      "cohens_d_AC = -6.0\n"
     ]
    }
   ],
   "source": [
    "#16\n",
    "cohens_d_AB = (group_means[\"A\"] - group_means[\"B\"]) / (ms_within)**0.5\n",
    "print(f\"cohens_d_AB = {cohens_d_AB}\")\n",
    "\n",
    "cohens_d_BC = (group_means[\"B\"] - group_means[\"C\"]) / (ms_within)**0.5\n",
    "print(f\"cohens_d_BC = {cohens_d_BC}\")\n",
    "\n",
    "cohens_d_AC = (group_means[\"A\"] - group_means[\"C\"]) / (ms_within)**0.5\n",
    "print(f\"cohens_d_AC = {cohens_d_AC}\")"
   ]
  },
  {
   "cell_type": "code",
   "execution_count": 5,
   "id": "1fed5d1c",
   "metadata": {},
   "outputs": [
    {
     "name": "stdout",
     "output_type": "stream",
     "text": [
      "eta_squared = 0.9\n"
     ]
    }
   ],
   "source": [
    "#18\n",
    "eta_squared = ss_between / ss_total\n",
    "print(f\"eta_squared = {eta_squared}\")"
   ]
  },
  {
   "cell_type": "code",
   "execution_count": 6,
   "id": "b62cf0f0",
   "metadata": {},
   "outputs": [
    {
     "data": {
      "text/plain": [
       "0.017670472432809833"
      ]
     },
     "execution_count": 6,
     "metadata": {},
     "output_type": "execute_result"
    }
   ],
   "source": [
    "#20\n",
    "f(3, 184).sf(3.454)"
   ]
  },
  {
   "cell_type": "code",
   "execution_count": 7,
   "id": "67e18b1b",
   "metadata": {},
   "outputs": [
    {
     "name": "stdout",
     "output_type": "stream",
     "text": [
      "all_mean = [1.4999999999999998, 1.5999999999999999, 1.6142857142857143, 2.875]\n",
      "grand_mean = 1.8350000000000002\n",
      "ss_between = 5.449428571428573\n",
      "ss_within = 0.8360714285714287\n",
      "df_between = 3\n",
      "df_within = 16\n",
      "ms_between = 1.816476190476191\n",
      "ms_within = 0.05225446428571429\n",
      "f_value = 34.7621244482415\n",
      "eta_square = 0.8669841017307408\n"
     ]
    }
   ],
   "source": [
    "#22~28\n",
    "x_p = pd.Series([1.5, 1.3, 1.8, 1.6, 1.3])\n",
    "x_1 = pd.Series([1.6, 1.7, 1.9, 1.2])\n",
    "x_2 = pd.Series([2.0, 1.4, 1.5, 1.5, 1.8, 1.7, 1.4])\n",
    "x_3 = pd.Series([2.9, 3.1, 2.8, 2.7])\n",
    "all_x = [x_p, x_1, x_2, x_3]\n",
    "\n",
    "all_values = pd.Series(\n",
    "    x_p.tolist() + x_1.tolist() + x_2.tolist() + x_3.tolist()\n",
    ")\n",
    "all_len = [len(x_i) for x_i in all_x]\n",
    "all_mean = [x_i.mean() for x_i in all_x]\n",
    "\n",
    "print(f\"all_mean = {all_mean}\")\n",
    "\n",
    "grand_mean = all_values.mean()\n",
    "print(f\"grand_mean = {grand_mean}\")\n",
    "\n",
    "ss_between = np.array([x_len_i * (x_bar_i - grand_mean)**2 for x_len_i, x_bar_i in zip(all_len, all_mean)]).sum()\n",
    "print(f\"ss_between = {ss_between}\")\n",
    "\n",
    "ss_within = np.array([((x_i - x_bar_i)**2).sum() for x_i, x_bar_i in zip(all_x, all_mean)]).sum()\n",
    "print(f\"ss_within = {ss_within}\")\n",
    "\n",
    "k = len(all_x)\n",
    "N = np.sum(all_len)\n",
    "df_between = k - 1\n",
    "print(f\"df_between = {df_between}\")\n",
    "\n",
    "df_within = N - k\n",
    "print(f\"df_within = {df_within}\")\n",
    "\n",
    "ms_between = ss_between / df_between\n",
    "print(f\"ms_between = {ms_between}\")\n",
    "\n",
    "ms_within = ss_within / df_within\n",
    "print(f\"ms_within = {ms_within}\")\n",
    "\n",
    "f_value = ms_between / ms_within\n",
    "print(f\"f_value = {f_value}\")\n",
    "\n",
    "eta_square = ss_between / (ss_between + ss_within)\n",
    "print(f\"eta_square = {eta_square}\")"
   ]
  }
 ],
 "metadata": {
  "kernelspec": {
   "display_name": "Python 3",
   "language": "python",
   "name": "python3"
  },
  "language_info": {
   "codemirror_mode": {
    "name": "ipython",
    "version": 3
   },
   "file_extension": ".py",
   "mimetype": "text/x-python",
   "name": "python",
   "nbconvert_exporter": "python",
   "pygments_lexer": "ipython3",
   "version": "3.8.3"
  }
 },
 "nbformat": 4,
 "nbformat_minor": 5
}
