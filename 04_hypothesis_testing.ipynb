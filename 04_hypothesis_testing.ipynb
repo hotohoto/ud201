{
 "cells": [
  {
   "cell_type": "code",
   "execution_count": 1,
   "metadata": {},
   "outputs": [],
   "source": [
    "import scipy.stats\n",
    "import math\n",
    "import numpy as np\n",
    "import pandas as pd"
   ]
  },
  {
   "cell_type": "code",
   "execution_count": 2,
   "metadata": {},
   "outputs": [
    {
     "name": "stdout",
     "output_type": "stream",
     "text": [
      "[1.64485363 2.32634787 3.09023231]\n"
     ]
    }
   ],
   "source": [
    "# 3~5\n",
    "z_bound = scipy.stats.norm(0, 1).ppf([.95, .99, .999])\n",
    "print(z_bound)\n"
   ]
  },
  {
   "cell_type": "code",
   "execution_count": 3,
   "metadata": {},
   "outputs": [
    {
     "name": "stdout",
     "output_type": "stream",
     "text": [
      "-2.5854535989841327\n",
      "[-1.95996398  1.95996398]\n"
     ]
    }
   ],
   "source": [
    "# 9~10\n",
    "mu = 7.5\n",
    "sigma = 0.64\n",
    "\n",
    "n = 20\n",
    "x_bar_engagement = 7.13\n",
    "\n",
    "se = sigma / (n ** 0.5)\n",
    "z = (x_bar_engagement - mu) / se\n",
    "print (z)\n",
    "z_bound = scipy.stats.norm(0, 1).ppf([.025, .975])\n",
    "print (z_bound)"
   ]
  },
  {
   "cell_type": "code",
   "execution_count": 4,
   "metadata": {},
   "outputs": [
    {
     "name": "stdout",
     "output_type": "stream",
     "text": [
      "[-2.5758293   2.5758293  -3.29052673  3.29052673]\n"
     ]
    }
   ],
   "source": [
    "# 13~14\n",
    "\n",
    "z_bound = scipy.stats.norm(0, 1).ppf([.005, .995, .0005, .9995])\n",
    "print(z_bound)\n"
   ]
  },
  {
   "cell_type": "code",
   "execution_count": 5,
   "metadata": {},
   "outputs": [
    {
     "name": "stdout",
     "output_type": "stream",
     "text": [
      "7.470212765957447 2.4129892200354406 7.396595744680852 2.5316526236414036\n"
     ]
    }
   ],
   "source": [
    "# 18\n",
    "pop = pd.read_csv('./engagement_and_learning.csv').as_matrix()\n",
    "pop_datetime = pop[:, 0]\n",
    "pop_engagement = pop[:, 1].astype(np.float64)\n",
    "pop_learning = pop[:, 2].astype(np.float64)\n",
    "\n",
    "pop_mu_engagement = np.average(pop_engagement)\n",
    "pop_sigma_engagement = np.average((pop_engagement - pop_mu_engagement)**2)**0.5\n",
    "pop_mu_learning = np.average(pop_learning)\n",
    "pop_sigma_learning = np.average((pop_learning - pop_mu_learning)**2)**0.5\n",
    "\n",
    "print(pop_mu_engagement, pop_sigma_engagement, pop_mu_learning, pop_sigma_learning)"
   ]
  },
  {
   "cell_type": "code",
   "execution_count": 6,
   "metadata": {},
   "outputs": [
    {
     "name": "stdout",
     "output_type": "stream",
     "text": [
      "[-1.95996398  1.95996398]\n"
     ]
    }
   ],
   "source": [
    "# 23\n",
    "z_bound = scipy.stats.norm(0, 1).ppf([.025, .975])\n",
    "print(z_bound)"
   ]
  },
  {
   "cell_type": "code",
   "execution_count": 7,
   "metadata": {},
   "outputs": [
    {
     "name": "stdout",
     "output_type": "stream",
     "text": [
      "1.8835276272317956\n"
     ]
    }
   ],
   "source": [
    "# 24\n",
    "n = 30\n",
    "x_bar = 8.3\n",
    "SE = pop_sigma_engagement / (n ** 0.5)\n",
    "z = (x_bar - pop_mu_engagement) / SE\n",
    "print(z)"
   ]
  },
  {
   "cell_type": "code",
   "execution_count": 8,
   "metadata": {},
   "outputs": [
    {
     "name": "stdout",
     "output_type": "stream",
     "text": [
      "2.4316237107967718\n"
     ]
    }
   ],
   "source": [
    "# 26\n",
    "n = 50\n",
    "x_bar = 8.3\n",
    "SE = pop_sigma_engagement / (n ** 0.5)\n",
    "z = (x_bar - pop_mu_engagement) / SE\n",
    "print(z)"
   ]
  },
  {
   "cell_type": "code",
   "execution_count": 9,
   "metadata": {},
   "outputs": [
    {
     "name": "stdout",
     "output_type": "stream",
     "text": [
      "0.0075156571002652495\n"
     ]
    }
   ],
   "source": [
    "# 28\n",
    "n = 50\n",
    "x_bar = 8.3\n",
    "SE = pop_sigma_engagement / (n ** 0.5)\n",
    "z = (x_bar - pop_mu_engagement) / SE\n",
    "p = scipy.stats.norm(0, 1).cdf(z)\n",
    "print(1 - p)"
   ]
  },
  {
   "cell_type": "code",
   "execution_count": 10,
   "metadata": {},
   "outputs": [
    {
     "name": "stdout",
     "output_type": "stream",
     "text": [
      "[-1.95996398  1.95996398]\n",
      "1.8863473972169642 0.7499935434718044\n"
     ]
    }
   ],
   "source": [
    "# 32 two-tailed test\n",
    "\n",
    "mu = 7.47\n",
    "sigma = 2.41\n",
    "mu_song = 7.8\n",
    "n = 30\n",
    "x_bar = 8.3\n",
    "alpha = 0.05\n",
    "\n",
    "z_bound = scipy.stats.norm(0, 1).ppf([alpha / 2, 1 - alpha / 2])\n",
    "print(z_bound)\n",
    "\n",
    "SE = sigma / (n ** 0.5)\n",
    "z_x_bar = (x_bar - mu) / SE\n",
    "z_mu_song = (mu_song - mu) / SE\n",
    "print(z_x_bar, z_mu_song)"
   ]
  },
  {
   "cell_type": "code",
   "execution_count": 11,
   "metadata": {},
   "outputs": [
    {
     "name": "stdout",
     "output_type": "stream",
     "text": [
      "[-1.95996398  1.95996398]\n",
      "2.4352640181943364 0.9682375012097956\n"
     ]
    }
   ],
   "source": [
    "# 33 two-tailed test\n",
    "\n",
    "mu = 7.47\n",
    "sigma = 2.41\n",
    "mu_song = 7.8\n",
    "n = 50\n",
    "x_bar = 8.3\n",
    "alpha = 0.05\n",
    "\n",
    "z_bound = scipy.stats.norm(0, 1).ppf([alpha / 2, 1 - alpha / 2])\n",
    "print(z_bound)\n",
    "\n",
    "SE = sigma / (n ** 0.5)\n",
    "z_x_bar = (x_bar - mu) / SE\n",
    "z_mu_song = (mu_song - mu) / SE\n",
    "print(z_x_bar, z_mu_song)"
   ]
  },
  {
   "cell_type": "code",
   "execution_count": null,
   "metadata": {},
   "outputs": [],
   "source": []
  }
 ],
 "metadata": {
  "kernelspec": {
   "display_name": "Python 3",
   "language": "python",
   "name": "python3"
  },
  "language_info": {
   "codemirror_mode": {
    "name": "ipython",
    "version": 3
   },
   "file_extension": ".py",
   "mimetype": "text/x-python",
   "name": "python",
   "nbconvert_exporter": "python",
   "pygments_lexer": "ipython3",
   "version": "3.6.0"
  }
 },
 "nbformat": 4,
 "nbformat_minor": 2
}
