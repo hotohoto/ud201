{
 "cells": [
  {
   "cell_type": "code",
   "execution_count": 1,
   "metadata": {},
   "outputs": [],
   "source": [
    "import scipy.stats\n",
    "import numpy as np"
   ]
  },
  {
   "cell_type": "code",
   "execution_count": 2,
   "metadata": {},
   "outputs": [
    {
     "name": "stdout",
     "output_type": "stream",
     "text": [
      "13.0 48.0 45.0 35.333333333333336\n"
     ]
    }
   ],
   "source": [
    "#21\n",
    "X_s = np.array([15, 12, 14, 11])\n",
    "X_i = np.array([39, 45, 48, 60])\n",
    "X_l = np.array([65, 45, 32, 38])\n",
    "\n",
    "X_bar_s = np.mean(X_s)\n",
    "X_bar_i = np.mean(X_i)\n",
    "X_bar_l = np.mean(X_l)\n",
    "\n",
    "X_bar_g = (X_bar_s + X_bar_i + X_bar_l) / 3\n",
    "\n",
    "print(X_bar_s, X_bar_i, X_bar_l, X_bar_g)"
   ]
  },
  {
   "cell_type": "code",
   "execution_count": 3,
   "metadata": {},
   "outputs": [
    {
     "name": "stdout",
     "output_type": "stream",
     "text": [
      "3010.666666666667\n"
     ]
    }
   ],
   "source": [
    "#22\n",
    "X_bars = np.array([X_bar_s, X_bar_i, X_bar_l])\n",
    "n = X_s.shape[0]\n",
    "SS_between =n * np.sum((X_bars - X_bar_g) ** 2)\n",
    "print(SS_between)\n",
    "\n",
    "# It's different from the below.\n",
    "# X_g = np.array([X_s, X_i, X_l]).flatten()\n",
    "# print(np.sum((X_g - X_bar_g)**2))\n",
    "# which is 3872.666666666667"
   ]
  },
  {
   "cell_type": "code",
   "execution_count": 4,
   "metadata": {},
   "outputs": [
    {
     "name": "stdout",
     "output_type": "stream",
     "text": [
      "d_X_s [ 2. -1.  1. -2.]\n",
      "d_X_s_squared [4. 1. 1. 4.]\n",
      "SS_s 10.0\n",
      "d_X_i [-9. -3.  0. 12.]\n",
      "d_X_i_squared [ 81.   9.   0. 144.]\n",
      "SS_i 234.0\n",
      "d_X_l [ 20.   0. -13.  -7.]\n",
      "d_X_l_squared [400.   0. 169.  49.]\n",
      "SS_l 618.0\n",
      "SS_within 862.0\n"
     ]
    }
   ],
   "source": [
    "#23\n",
    "d_X_s = X_s - X_bar_s\n",
    "print('d_X_s', d_X_s)\n",
    "d_X_s_squared = d_X_s ** 2\n",
    "print('d_X_s_squared', d_X_s_squared)\n",
    "SS_s = np.sum(d_X_s_squared)\n",
    "print('SS_s', SS_s)\n",
    "\n",
    "d_X_i = X_i - X_bar_i\n",
    "print('d_X_i', d_X_i)\n",
    "d_X_i_squared = d_X_i ** 2\n",
    "print('d_X_i_squared', d_X_i_squared)\n",
    "SS_i = np.sum(d_X_i_squared)\n",
    "print('SS_i', SS_i)\n",
    "\n",
    "d_X_l = X_l - X_bar_l\n",
    "print('d_X_l', d_X_l)\n",
    "d_X_l_squared = d_X_l ** 2\n",
    "print('d_X_l_squared', d_X_l_squared)\n",
    "SS_l = np.sum(d_X_l_squared)\n",
    "print('SS_l', SS_l)\n",
    "\n",
    "SS_within = SS_s + SS_i + SS_l\n",
    "print('SS_within', SS_within)\n"
   ]
  },
  {
   "cell_type": "code",
   "execution_count": 5,
   "metadata": {},
   "outputs": [
    {
     "name": "stdout",
     "output_type": "stream",
     "text": [
      "2 9\n"
     ]
    }
   ],
   "source": [
    "#24\n",
    "k = 3\n",
    "N = X_s.shape[0] + X_i.shape[0] + X_l.shape[0]\n",
    "df_between = k - 1\n",
    "df_within = N - k\n",
    "print(df_between, df_within)"
   ]
  },
  {
   "cell_type": "code",
   "execution_count": 6,
   "metadata": {},
   "outputs": [
    {
     "name": "stdout",
     "output_type": "stream",
     "text": [
      "1505.3333333333335 95.77777777777777\n"
     ]
    }
   ],
   "source": [
    "#25\n",
    "MS_between = SS_between / df_between\n",
    "MS_within = SS_within / df_within\n",
    "\n",
    "print(MS_between, MS_within)"
   ]
  },
  {
   "cell_type": "code",
   "execution_count": 7,
   "metadata": {},
   "outputs": [
    {
     "name": "stdout",
     "output_type": "stream",
     "text": [
      "15.716937354988401\n"
     ]
    }
   ],
   "source": [
    "#26\n",
    "F = MS_between / MS_within\n",
    "print(F)"
   ]
  },
  {
   "cell_type": "code",
   "execution_count": 8,
   "metadata": {},
   "outputs": [
    {
     "name": "stdout",
     "output_type": "stream",
     "text": [
      "4.25649472909375\n"
     ]
    }
   ],
   "source": [
    "#27\n",
    "alpha = 0.05\n",
    "F_critical = scipy.stats.f(df_between, df_within).ppf(1 - alpha) \n",
    "print(F_critical)"
   ]
  }
 ],
 "metadata": {
  "kernelspec": {
   "display_name": "Python 3",
   "language": "python",
   "name": "python3"
  },
  "language_info": {
   "codemirror_mode": {
    "name": "ipython",
    "version": 3
   },
   "file_extension": ".py",
   "mimetype": "text/x-python",
   "name": "python",
   "nbconvert_exporter": "python",
   "pygments_lexer": "ipython3",
   "version": "3.8.3"
  }
 },
 "nbformat": 4,
 "nbformat_minor": 2
}
