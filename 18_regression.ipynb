{
 "cells": [
  {
   "cell_type": "code",
   "execution_count": 1,
   "id": "dff31a34",
   "metadata": {},
   "outputs": [],
   "source": [
    "import matplotlib.pyplot as plt\n",
    "import numpy as np\n",
    "import pandas as pd\n",
    "from scipy.stats import pearsonr, t"
   ]
  },
  {
   "cell_type": "code",
   "execution_count": 2,
   "id": "251d2809",
   "metadata": {},
   "outputs": [
    {
     "name": "stdout",
     "output_type": "stream",
     "text": [
      "r = 0.9090036493537198\n"
     ]
    }
   ],
   "source": [
    "#6\n",
    "df = pd.read_csv(\"flight_costs.csv\")\n",
    "col_x = \"Distance (miles)\"\n",
    "col_y = \"Cost (USD)\"\n",
    "\n",
    "r, p = pearsonr(df[col_x], df[col_y])\n",
    "print(f\"r = {r}\")"
   ]
  },
  {
   "cell_type": "code",
   "execution_count": 3,
   "id": "8020dae3",
   "metadata": {},
   "outputs": [
    {
     "data": {
      "text/plain": [
       "Distance (miles)    2315.336825\n",
       "Cost (USD)           508.187002\n",
       "dtype: float64"
      ]
     },
     "execution_count": 3,
     "metadata": {},
     "output_type": "execute_result"
    }
   ],
   "source": [
    "#7\n",
    "std = df.std()\n",
    "std"
   ]
  },
  {
   "cell_type": "code",
   "execution_count": 4,
   "id": "43603b4f",
   "metadata": {},
   "outputs": [
    {
     "name": "stdout",
     "output_type": "stream",
     "text": [
      "slope = 0.19951474650948434\n"
     ]
    }
   ],
   "source": [
    "#8\n",
    "slope = r * std[col_y] / std[col_x]\n",
    "print(f\"slope = {slope}\")"
   ]
  },
  {
   "cell_type": "code",
   "execution_count": 5,
   "id": "94379b11",
   "metadata": {},
   "outputs": [
    {
     "name": "stdout",
     "output_type": "stream",
     "text": [
      "x_mean = 2601.1111111111113\n",
      "y_mean = 680.3477777777778\n",
      "y_intercept = 161.38775380144125\n"
     ]
    }
   ],
   "source": [
    "#11-12\n",
    "x_mean = df[col_x].mean()\n",
    "print(f\"x_mean = {x_mean}\")\n",
    "\n",
    "y_mean = df[col_y].mean()\n",
    "print(f\"y_mean = {y_mean}\")\n",
    "\n",
    "y_intercept = y_mean - slope * x_mean\n",
    "print(f\"y_intercept = {y_intercept}\")"
   ]
  },
  {
   "cell_type": "code",
   "execution_count": 6,
   "id": "bf61e698",
   "metadata": {},
   "outputs": [
    {
     "data": {
      "text/plain": [
       "959.4467398393786"
      ]
     },
     "execution_count": 6,
     "metadata": {},
     "output_type": "execute_result"
    }
   ],
   "source": [
    "#14\n",
    "y_intercept + slope * 4000"
   ]
  },
  {
   "cell_type": "code",
   "execution_count": 7,
   "id": "a3cdb8fc",
   "metadata": {},
   "outputs": [
    {
     "data": {
      "text/plain": [
       "1697.1790412618054"
      ]
     },
     "execution_count": 7,
     "metadata": {},
     "output_type": "execute_result"
    }
   ],
   "source": [
    "#16\n",
    "(500 - y_intercept) / slope"
   ]
  },
  {
   "cell_type": "code",
   "execution_count": 8,
   "id": "b34a51d7",
   "metadata": {},
   "outputs": [
    {
     "name": "stdout",
     "output_type": "stream",
     "text": [
      "t_critical = 2.3646242510102993\n"
     ]
    }
   ],
   "source": [
    "##21\n",
    "N = 9\n",
    "alpha = 0.05\n",
    "t_value = 5.77\n",
    "nu = N - 2\n",
    "t_critical = t(nu).ppf(1 - alpha/2)\n",
    "print(f\"t_critical = {t_critical}\")"
   ]
  },
  {
   "cell_type": "code",
   "execution_count": 9,
   "id": "f27b7352",
   "metadata": {},
   "outputs": [
    {
     "data": {
      "text/plain": [
       "2.6689999999999996"
      ]
     },
     "execution_count": 9,
     "metadata": {},
     "output_type": "execute_result"
    }
   ],
   "source": [
    "#27\n",
    "2.763 - 0.149 * 5 + 0.093 * 7"
   ]
  }
 ],
 "metadata": {
  "kernelspec": {
   "display_name": "Python 3",
   "language": "python",
   "name": "python3"
  },
  "language_info": {
   "codemirror_mode": {
    "name": "ipython",
    "version": 3
   },
   "file_extension": ".py",
   "mimetype": "text/x-python",
   "name": "python",
   "nbconvert_exporter": "python",
   "pygments_lexer": "ipython3",
   "version": "3.8.3"
  }
 },
 "nbformat": 4,
 "nbformat_minor": 5
}
