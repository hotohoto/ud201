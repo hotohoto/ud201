{
 "cells": [
  {
   "cell_type": "code",
   "execution_count": 1,
   "id": "dff31a34",
   "metadata": {},
   "outputs": [],
   "source": [
    "import matplotlib.pyplot as plt\n",
    "import numpy as np\n",
    "import pandas as pd\n",
    "from scipy.stats import chisquare, chi2"
   ]
  },
  {
   "cell_type": "code",
   "execution_count": 2,
   "id": "1ea5ac4f",
   "metadata": {},
   "outputs": [
    {
     "name": "stdout",
     "output_type": "stream",
     "text": [
      "critical=11.070497693516351\n",
      "chi2_value=14.5\n"
     ]
    }
   ],
   "source": [
    "#11-17\n",
    "observed = np.array([8, 4, 1, 8, 3, 0])\n",
    "expected = np.ones(len(observed)) * (1/len(observed)) * observed.sum()\n",
    "degree_of_freedom = len(observed) - 1 \n",
    "chi_rv = chi2(degree_of_freedom)\n",
    "critical = chi_rv.ppf(1 - 0.05)\n",
    "print(f\"critical={critical}\")\n",
    "chi2_value = ((observed - expected)**2 / expected).sum()\n",
    "print(f\"chi2_value={chi2_value}\")"
   ]
  },
  {
   "cell_type": "code",
   "execution_count": 3,
   "id": "9433fc7b",
   "metadata": {},
   "outputs": [
    {
     "name": "stdout",
     "output_type": "stream",
     "text": [
      "critical=3.841458820694124\n",
      "chi2_value=88.6487963871521\n"
     ]
    }
   ],
   "source": [
    "#18-24\n",
    "columns = [\"Cabin\", \"Steerage\"]\n",
    "index = [\"Yes\", \"No\"]\n",
    "observed = pd.DataFrame([[299, 280], [186, 526]], columns=columns, index=index)\n",
    "\n",
    "sum_v = observed.sum(axis=0)  # Accomodations\n",
    "sum_h = observed.sum(axis=1)  # Survived\n",
    "sum_total = sum_v.sum()\n",
    "\n",
    "expected = pd.DataFrame(\n",
    "    [[(sum_v[i] * sum_h[j]) / sum_total for i in range(2)] for j in range(2)],\n",
    "    columns=columns,\n",
    "    index=index\n",
    ")\n",
    "\n",
    "degree_of_freedom = min(np.array(observed.shape) - 1)\n",
    "chi_rv = chi2(degree_of_freedom)\n",
    "critical = chi_rv.ppf(1 - 0.05)\n",
    "print(f\"critical={critical}\")\n",
    "\n",
    "# chi2_value = ((observed - expected)**2 / expected).sum()\n",
    "chi2_value = ((observed - expected)**2 / expected).values.sum()\n",
    "print(f\"chi2_value={chi2_value}\")"
   ]
  }
 ],
 "metadata": {
  "kernelspec": {
   "display_name": "Python 3",
   "language": "python",
   "name": "python3"
  },
  "language_info": {
   "codemirror_mode": {
    "name": "ipython",
    "version": 3
   },
   "file_extension": ".py",
   "mimetype": "text/x-python",
   "name": "python",
   "nbconvert_exporter": "python",
   "pygments_lexer": "ipython3",
   "version": "3.8.3"
  }
 },
 "nbformat": 4,
 "nbformat_minor": 5
}
