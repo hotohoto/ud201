{
 "cells": [
  {
   "cell_type": "code",
   "execution_count": 1,
   "id": "679dfb14",
   "metadata": {},
   "outputs": [],
   "source": [
    "import numpy as np\n",
    "import pandas as pd\n",
    "from scipy.stats import f"
   ]
  },
  {
   "cell_type": "code",
   "execution_count": 2,
   "id": "b705615f",
   "metadata": {},
   "outputs": [
    {
     "name": "stdout",
     "output_type": "stream",
     "text": [
      "ss_between = 40.0\n",
      "ss_within = 42.0\n",
      "ss_total = 82.0\n",
      "df_between = 2\n",
      "df_within = 12\n",
      "ms_between = 20.0\n",
      "ms_within = 3.5\n",
      "f = 5.714285714285714\n"
     ]
    }
   ],
   "source": [
    "#13~17\n",
    "df = pd.DataFrame({\n",
    "    \"sc\": [8, 7, 10, 6, 9],\n",
    "    \"tw\": [4, 6, 7, 4, 9],\n",
    "    \"tr\": [4, 4, 7, 2, 3],\n",
    "})\n",
    "\n",
    "n = 5\n",
    "N = 15\n",
    "k = 3\n",
    "\n",
    "grand_mean = df.values.mean()\n",
    "group_means = df.mean()\n",
    "\n",
    "ss_between = (n*(group_means - grand_mean)**2).sum()\n",
    "print(f\"ss_between = {ss_between}\")\n",
    "\n",
    "ss_within = ((df - group_means).values**2).sum()\n",
    "print(f\"ss_within = {ss_within}\")\n",
    "\n",
    "ss_total = ((df - grand_mean).values**2).sum()\n",
    "print(f\"ss_total = {ss_total}\")\n",
    "\n",
    "assert ss_total == ss_between + ss_within\n",
    "\n",
    "df_between = k - 1\n",
    "print(f\"df_between = {df_between}\")\n",
    "\n",
    "df_within = k * (n - 1)\n",
    "print(f\"df_within = {df_within}\")\n",
    "\n",
    "ms_between = ss_between / df_between\n",
    "print(f\"ms_between = {ms_between}\")\n",
    "\n",
    "ms_within = ss_within / df_within\n",
    "print(f\"ms_within = {ms_within}\")\n",
    "\n",
    "f_value = ms_between / ms_within\n",
    "print(f\"f = {f_value}\")"
   ]
  },
  {
   "cell_type": "code",
   "execution_count": 3,
   "id": "ca928a26",
   "metadata": {},
   "outputs": [
    {
     "name": "stdout",
     "output_type": "stream",
     "text": [
      "f_critical = 3.8852938346523933\n",
      "cdf(f_critical) = 0.95\n"
     ]
    }
   ],
   "source": [
    "# 18\n",
    "rv_f = f(df_between, df_within)\n",
    "f_critical = rv_f.ppf(1 - 0.05)\n",
    "print(f\"f_critical = {f_critical}\")\n",
    "print(f\"cdf(f_critical) = {rv_f.cdf(3.8852938346523933)}\")"
   ]
  }
 ],
 "metadata": {
  "kernelspec": {
   "display_name": "Python 3",
   "language": "python",
   "name": "python3"
  },
  "language_info": {
   "codemirror_mode": {
    "name": "ipython",
    "version": 3
   },
   "file_extension": ".py",
   "mimetype": "text/x-python",
   "name": "python",
   "nbconvert_exporter": "python",
   "pygments_lexer": "ipython3",
   "version": "3.8.3"
  }
 },
 "nbformat": 4,
 "nbformat_minor": 5
}
