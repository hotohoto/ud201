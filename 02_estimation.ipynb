{
 "cells": [
  {
   "cell_type": "markdown",
   "metadata": {},
   "source": [
    "### 2 Estimation"
   ]
  },
  {
   "cell_type": "code",
   "execution_count": 1,
   "metadata": {},
   "outputs": [],
   "source": [
    "import scipy.stats\n",
    "import math\n",
    "import numpy as np\n",
    "import pandas as pd"
   ]
  },
  {
   "cell_type": "code",
   "execution_count": 2,
   "metadata": {},
   "outputs": [
    {
     "name": "stdout",
     "output_type": "stream",
     "text": [
      "[34.68603814 45.31396186]\n"
     ]
    }
   ],
   "source": [
    "# 10\n",
    "mu = 37.72\n",
    "sigma = 16.04\n",
    "\n",
    "x_bar = 40\n",
    "n = 35\n",
    "se = sigma / math.sqrt(n)\n",
    "z_bound = scipy.stats.norm(0, 1).ppf([.025, .975])\n",
    "bound = x_bar + (se * z_bound)\n",
    "print(bound)\n"
   ]
  },
  {
   "cell_type": "code",
   "execution_count": 3,
   "metadata": {},
   "outputs": [
    {
     "name": "stdout",
     "output_type": "stream",
     "text": [
      "[38.01169754 41.98830246]\n"
     ]
    }
   ],
   "source": [
    "# 14\n",
    "mu = 37.72\n",
    "sigma = 16.04\n",
    "\n",
    "x_bar = 40\n",
    "n = 250\n",
    "se = sigma / math.sqrt(n)\n",
    "z_bound = scipy.stats.norm(0, 1).ppf([.025, .975])\n",
    "bound = x_bar + (se * z_bound)\n",
    "print(bound)"
   ]
  },
  {
   "cell_type": "code",
   "execution_count": 4,
   "metadata": {},
   "outputs": [
    {
     "name": "stdout",
     "output_type": "stream",
     "text": [
      "[-2.32634787  2.32634787] [37.64001622 42.35998378]\n"
     ]
    }
   ],
   "source": [
    "# 16\n",
    "# 17\n",
    "mu = 37.72\n",
    "sigma = 16.04\n",
    "\n",
    "x_bar = 40\n",
    "N = 250\n",
    "se = sigma / math.sqrt(n)\n",
    "z_bound = scipy.stats.norm(0, 1).ppf([.01, .99])\n",
    "bound = x_bar + (se * z_bound)\n",
    "print(z_bound, bound)"
   ]
  },
  {
   "cell_type": "code",
   "execution_count": 5,
   "metadata": {},
   "outputs": [
    {
     "name": "stdout",
     "output_type": "stream",
     "text": [
      "mu 0.07726584465256987\n",
      "sigma 0.10720956480669144\n",
      "standard error 0.023972787474593117\n",
      "[0.0830142 0.1769858]\n"
     ]
    }
   ],
   "source": [
    "# 19\n",
    "pop = pd.read_csv('./engagement_ratio.csv', header=None).as_matrix().flatten()\n",
    "mu = np.average(pop)\n",
    "N = len(pop)\n",
    "print('mu', mu)\n",
    "\n",
    "sigma = (np.sum((pop - mu)**2)/N)**0.5\n",
    "print('sigma', sigma)\n",
    "\n",
    "#22\n",
    "x_bar = 0.13\n",
    "n = 20\n",
    "se = sigma / n**0.5\n",
    "print('standard error', se)\n",
    "\n",
    "#23\n",
    "z_bound = scipy.stats.norm(0, 1).ppf([.025, .975])\n",
    "bound = x_bar + (se * z_bound)\n",
    "print(bound)\n"
   ]
  },
  {
   "cell_type": "code",
   "execution_count": 6,
   "metadata": {},
   "outputs": [
    {
     "name": "stdout",
     "output_type": "stream",
     "text": [
      "7.5\n",
      "0.14310835055998652\n",
      "8.2\n",
      "0.16323296235748463\n",
      "z score of sample mean for engagement with song: 10.06230589874905\n",
      "z score of sample mean for learning with song: 0.918932045547861\n",
      "probability that sample mean of engagement is at least 8.94: 0.0\n",
      "probability that sample mean of engagement is at least 8.35: 0.17906555855674156\n"
     ]
    }
   ],
   "source": [
    "#29\n",
    "mu_engagement = 7.5\n",
    "sigma_engagement = 0.64\n",
    "mu_learning = 8.2\n",
    "sigma_learning = 0.73\n",
    "\n",
    "n = 20\n",
    "m_engagement = mu_engagement\n",
    "se_engagement = sigma_engagement / n ** 0.5\n",
    "m_learning = mu_learning\n",
    "se_learning = sigma_learning / n ** 0.5\n",
    "print(m_engagement)\n",
    "print(se_engagement)\n",
    "print(m_learning)\n",
    "print(se_learning)\n",
    "\n",
    "#30\n",
    "x_bar_engagement = 8.94\n",
    "x_bar_learning = 8.35\n",
    "z_engagement = (x_bar_engagement - m_engagement) / se_engagement\n",
    "z_learning = (x_bar_learning - m_learning) / se_learning\n",
    "print('z score of sample mean for engagement with song:', z_engagement)\n",
    "print('z score of sample mean for learning with song:', z_learning)\n",
    "\n",
    "\n",
    "#31\n",
    "p_engagement = 1- scipy.stats.norm(0, 1).cdf(z_engagement)\n",
    "p_learning = 1- scipy.stats.norm(0, 1).cdf(z_learning)\n",
    "print('probability that sample mean of engagement is at least {}:'.format(x_bar_engagement), p_engagement)\n",
    "print('probability that sample mean of engagement is at least {}:'.format(x_bar_learning), p_learning)"
   ]
  },
  {
   "cell_type": "code",
   "execution_count": null,
   "metadata": {},
   "outputs": [],
   "source": []
  }
 ],
 "metadata": {
  "kernelspec": {
   "display_name": "Python 3",
   "language": "python",
   "name": "python3"
  },
  "language_info": {
   "codemirror_mode": {
    "name": "ipython",
    "version": 3
   },
   "file_extension": ".py",
   "mimetype": "text/x-python",
   "name": "python",
   "nbconvert_exporter": "python",
   "pygments_lexer": "ipython3",
   "version": "3.6.0"
  }
 },
 "nbformat": 4,
 "nbformat_minor": 2
}
