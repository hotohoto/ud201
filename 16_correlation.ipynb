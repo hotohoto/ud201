{
 "cells": [
  {
   "cell_type": "code",
   "execution_count": 1,
   "id": "dff31a34",
   "metadata": {},
   "outputs": [],
   "source": [
    "import matplotlib.pyplot as plt\n",
    "import numpy as np\n",
    "import pandas as pd\n",
    "from scipy.stats import t"
   ]
  },
  {
   "cell_type": "code",
   "execution_count": 2,
   "id": "4082b7f1",
   "metadata": {},
   "outputs": [
    {
     "data": {
      "image/png": "[encoded data removed]",
      "text/plain": [
       "<Figure size 432x288 with 1 Axes>"
      ]
     },
     "metadata": {
      "needs_background": "light"
     },
     "output_type": "display_data"
    },
    {
     "data": {
      "image/png": "[encoded data removed]",
      "text/plain": [
       "<Figure size 432x288 with 1 Axes>"
      ]
     },
     "metadata": {
      "needs_background": "light"
     },
     "output_type": "display_data"
    }
   ],
   "source": [
    "#12\n",
    "df = pd.read_csv(\"dentist.csv\")\n",
    "\n",
    "df.plot.scatter(\"age\", \"party\")\n",
    "plt.show()\n",
    "\n",
    "df.plot.scatter(\"age\", \"pets\")\n",
    "plt.show()"
   ]
  },
  {
   "cell_type": "code",
   "execution_count": 3,
   "id": "f376b3ad",
   "metadata": {},
   "outputs": [
    {
     "name": "stdout",
     "output_type": "stream",
     "text": [
      "N=61\n",
      "r1 = -0.16421412606556712\n",
      "r2 = 0.37576461379834125\n"
     ]
    }
   ],
   "source": [
    "#13\n",
    "\n",
    "df1 = df[[\"age\", \"party\"]]\n",
    "df2 = df[[\"age\", \"pets\"]]\n",
    "\n",
    "N = len(df)\n",
    "print(f\"N={N}\")\n",
    "\n",
    "df1_diff = df1 - df1.mean()\n",
    "df1_std = df1.std()\n",
    "cov1 = (df1_diff[\"age\"] * df1_diff[\"party\"]).sum() / (N - 1)\n",
    "r1 = cov1 / (df1_std[\"age\"] * df1_std[\"party\"])\n",
    "print(f\"r1 = {r1}\")\n",
    "\n",
    "df2_diff = df2 - df2.mean()\n",
    "df2_std = df2.std()\n",
    "cov2 = (df2_diff[\"age\"] * df2_diff[\"pets\"]).sum() / (N - 1)\n",
    "r2 = cov2 / (df2_std[\"age\"] * df2_std[\"pets\"])\n",
    "print(f\"r2 = {r2}\")"
   ]
  },
  {
   "cell_type": "code",
   "execution_count": 4,
   "id": "3846885a",
   "metadata": {},
   "outputs": [
    {
     "name": "stdout",
     "output_type": "stream",
     "text": [
      "2.0686576104190406\n"
     ]
    }
   ],
   "source": [
    "#16\n",
    "t_critical_non_directional = t(25 - 2).ppf(1 - 0.05/2)\n",
    "print(t_critical_non_directional)"
   ]
  },
  {
   "cell_type": "code",
   "execution_count": 5,
   "id": "0dd19622",
   "metadata": {},
   "outputs": [
    {
     "name": "stdout",
     "output_type": "stream",
     "text": [
      "nu = 59\n",
      "t1 = -1.278711507738824\n",
      "t2 = 3.11455228651063\n",
      "ci = 2.00099537704821\n",
      "r1_95 = [-0.3926836   0.09362035]\n",
      "r2_95 = [0.14347291 0.55430883]\n",
      "p1 = 0.20600567570348224\n",
      "p2 = 0.0028422754334425093\n"
     ]
    }
   ],
   "source": [
    "# 18\n",
    "nu = N - 2 #degree of freedom\n",
    "print(f\"nu = {nu}\")\n",
    "\n",
    "def r2t(r, N):    \n",
    "    return r * (nu)** 0.5 / (1 - r**2)**0.5\n",
    "\n",
    "def t2r(t, N):\n",
    "    return np.sign(t) * ((nu / t**2) + 1) ** (-0.5)\n",
    "    \n",
    "t1 = r2t(r1, N) \n",
    "print(f\"t1 = {t1}\")\n",
    "\n",
    "t2 = r2t(r2, N)\n",
    "print(f\"t2 = {t2}\")\n",
    "\n",
    "# ci = t(23).ppf(1 - 0.05/2) # the lecture miscalculated CI using nu=23 instead of nu=59 here.\n",
    "ci = t(nu).ppf(1 - 0.05/2)\n",
    "print(f\"ci = {ci}\")\n",
    "\n",
    "t1_95 = np.array([t1 - ci, t1 + ci])\n",
    "r1_95 = t2r(t1_95, N)\n",
    "print(f\"r1_95 = {r1_95}\")\n",
    "\n",
    "t2_95 = np.array([t2 - ci, t2 + ci])\n",
    "r2_95 = t2r(t2_95, N)\n",
    "print(f\"r2_95 = {r2_95}\")\n",
    "\n",
    "p1 = 2 * t(nu).cdf(t1)\n",
    "print(f\"p1 = {p1}\")\n",
    "\n",
    "p2 = 2 * (1 - t(nu).cdf(t2))\n",
    "print(f\"p2 = {p2}\")\n"
   ]
  },
  {
   "cell_type": "code",
   "execution_count": 6,
   "id": "8446cce5",
   "metadata": {},
   "outputs": [
    {
     "name": "stdout",
     "output_type": "stream",
     "text": [
      "r3 = 0.23148091642148153\n",
      "t3 = 1.8431031740533546\n",
      "p3 = 0.07025500392476247\n"
     ]
    }
   ],
   "source": [
    "# 19\n",
    "df3 = df2.copy()\n",
    "df3 = df3.append({\"age\": 20, \"pets\": 8}, ignore_index=True)\n",
    "N = len(df3)\n",
    "nu = N - 2\n",
    "df3_diff = df3 - df3.mean()\n",
    "df3_std = df3.std()\n",
    "cov3 = (df3_diff[\"age\"] * df3_diff[\"pets\"]).sum() / (N - 1)\n",
    "r3 = cov3 / (df3_std[\"age\"] * df3_std[\"pets\"])\n",
    "print(f\"r3 = {r3}\")\n",
    "\n",
    "t3 = r2t(r3, N)\n",
    "print(f\"t3 = {t3}\")\n",
    "\n",
    "p3 = 2 * (1 - t(nu).cdf(t3))\n",
    "print(f\"p3 = {p3}\")"
   ]
  }
 ],
 "metadata": {
  "kernelspec": {
   "display_name": "Python 3",
   "language": "python",
   "name": "python3"
  },
  "language_info": {
   "codemirror_mode": {
    "name": "ipython",
    "version": 3
   },
   "file_extension": ".py",
   "mimetype": "text/x-python",
   "name": "python",
   "nbconvert_exporter": "python",
   "pygments_lexer": "ipython3",
   "version": "3.8.3"
  }
 },
 "nbformat": 4,
 "nbformat_minor": 5
}
