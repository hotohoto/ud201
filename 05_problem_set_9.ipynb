{
 "cells": [
  {
   "cell_type": "code",
   "execution_count": 1,
   "metadata": {},
   "outputs": [],
   "source": [
    "import scipy.stats\n",
    "import math\n",
    "import numpy as np\n",
    "import pandas as pd"
   ]
  },
  {
   "cell_type": "code",
   "execution_count": 7,
   "metadata": {},
   "outputs": [
    {
     "name": "stdout",
     "output_type": "stream",
     "text": [
      "1.0 3.0 1.6448536269514722\n"
     ]
    }
   ],
   "source": [
    "# 2~9 one-tailed directional test\n",
    "\n",
    "mu = 25\n",
    "sigma = 6\n",
    "n = 36\n",
    "x_bar = 28\n",
    "alpha = 0.05\n",
    "\n",
    "\n",
    "\n",
    "SE = sigma / (n ** 0.5)\n",
    "z_x_bar = (x_bar - mu) / SE\n",
    "z_bound = scipy.stats.norm(0, 1).ppf(1 - alpha)\n",
    "print(SE, z_x_bar, z_bound)"
   ]
  },
  {
   "cell_type": "code",
   "execution_count": 9,
   "metadata": {},
   "outputs": [
    {
     "name": "stdout",
     "output_type": "stream",
     "text": [
      "0.09 -1.9111111111111179 -1.6448536269514729\n"
     ]
    }
   ],
   "source": [
    "# 10~12 one-tailed directional test\n",
    "\n",
    "mu = 22.965\n",
    "sigma = 0.360\n",
    "n = 16\n",
    "x_bar = 22.793\n",
    "alpha = 0.05\n",
    "\n",
    "\n",
    "\n",
    "SE = sigma / (n ** 0.5)\n",
    "z_x_bar = (x_bar - mu) / SE\n",
    "z_bound = scipy.stats.norm(0, 1).ppf(alpha)\n",
    "print(SE, z_x_bar, z_bound)"
   ]
  },
  {
   "cell_type": "code",
   "execution_count": 17,
   "metadata": {},
   "outputs": [
    {
     "name": "stdout",
     "output_type": "stream",
     "text": [
      "102.85912696499032 16.964950524944058 [-2.32634787  2.32634787] 1.0\n"
     ]
    }
   ],
   "source": [
    "# 13 two-tailed directional test\n",
    "\n",
    "mu = 7895\n",
    "sigma = 230\n",
    "n = 5\n",
    "x_bar = 9640\n",
    "alpha = 0.01\n",
    "\n",
    "SE = sigma / (n ** 0.5)\n",
    "z_x_bar = (x_bar - mu) / SE\n",
    "z_bound = scipy.stats.norm(0, 1).ppf([alpha, 1 - alpha])\n",
    "p = scipy.stats.norm(0, 1).cdf(z_x_bar)\n",
    "print(SE, z_x_bar, z_bound, p)"
   ]
  },
  {
   "cell_type": "code",
   "execution_count": null,
   "metadata": {},
   "outputs": [],
   "source": []
  }
 ],
 "metadata": {
  "kernelspec": {
   "display_name": "Python 3",
   "language": "python",
   "name": "python3"
  },
  "language_info": {
   "codemirror_mode": {
    "name": "ipython",
    "version": 3
   },
   "file_extension": ".py",
   "mimetype": "text/x-python",
   "name": "python",
   "nbconvert_exporter": "python",
   "pygments_lexer": "ipython3",
   "version": "3.6.0"
  }
 },
 "nbformat": 4,
 "nbformat_minor": 2
}
