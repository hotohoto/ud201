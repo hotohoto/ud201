{
 "cells": [
  {
   "cell_type": "code",
   "execution_count": 1,
   "metadata": {},
   "outputs": [],
   "source": [
    "import scipy.stats\n",
    "import math\n",
    "import numpy as np\n",
    "import pandas as pd"
   ]
  },
  {
   "cell_type": "code",
   "execution_count": 2,
   "metadata": {},
   "outputs": [
    {
     "name": "stdout",
     "output_type": "stream",
     "text": [
      "1.782287555649159\n"
     ]
    }
   ],
   "source": [
    "# 9\n",
    "alpha = 0.05\n",
    "t_critical = scipy.stats.t(12).ppf(1-alpha)\n",
    "print(t_critical)"
   ]
  },
  {
   "cell_type": "code",
   "execution_count": 3,
   "metadata": {},
   "outputs": [
    {
     "name": "stdout",
     "output_type": "stream",
     "text": [
      "[-2.04522964  2.04522964]\n"
     ]
    }
   ],
   "source": [
    "# 10\n",
    "degree_of_freedom = 30 - 1\n",
    "alpha = 0.05\n",
    "t_critical = scipy.stats.t(degree_of_freedom).ppf([alpha/2, 1-alpha/2])\n",
    "print(t_critical)"
   ]
  },
  {
   "cell_type": "code",
   "execution_count": 4,
   "metadata": {},
   "outputs": [
    {
     "name": "stdout",
     "output_type": "stream",
     "text": [
      "0.011157864080474367\n"
     ]
    }
   ],
   "source": [
    "# 11\n",
    "n = 24\n",
    "degree_of_freedom = n - 1\n",
    "t_value = 2.45\n",
    "precise_area = 1 - scipy.stats.t(degree_of_freedom).cdf(t_value)\n",
    "print(precise_area) # this is more precise than the answer values"
   ]
  },
  {
   "cell_type": "code",
   "execution_count": 5,
   "metadata": {},
   "outputs": [
    {
     "name": "stdout",
     "output_type": "stream",
     "text": [
      "500 499 6.469600000000001 0.3961182390633348 22.557223467461974 0.0\n"
     ]
    }
   ],
   "source": [
    "# 15~19\n",
    "mu = 6.07\n",
    "sample = pd.read_csv('./finches.csv').as_matrix()\n",
    "n = sample.shape[0]\n",
    "degree_of_freedom = n - 1\n",
    "x_bar = np.average(sample)\n",
    "S = (np.sum((sample - x_bar) ** 2) / degree_of_freedom) ** 0.5\n",
    "t_value = (x_bar - mu) / (S / (n ** 0.5))\n",
    "p_critical = 1 - scipy.stats.t(degree_of_freedom).cdf(t_value)\n",
    "print(n, degree_of_freedom, x_bar, S, t_value, p_critical)"
   ]
  },
  {
   "cell_type": "code",
   "execution_count": 6,
   "metadata": {},
   "outputs": [
    {
     "name": "stdout",
     "output_type": "stream",
     "text": [
      "0.977461894333816 0.36090407456663254 0.05\n"
     ]
    }
   ],
   "source": [
    "# 20~22\n",
    "sample = np.array([5, 19, 11, 23, 12, 7, 3, 21])\n",
    "mu = 10\n",
    "alpha = 0.05\n",
    "n = sample.shape[0]\n",
    "degree_of_freedom = n - 1\n",
    "x_bar = np.average(sample)\n",
    "S = (np.sum((sample - x_bar)**2)/degree_of_freedom) ** 0.5\n",
    "t_value = (x_bar - mu) / (S / n ** 0.5)\n",
    "p = 2 * (1 - scipy.stats.t(degree_of_freedom).cdf(t_value))\n",
    "print(t_value, p, alpha)"
   ]
  },
  {
   "cell_type": "code",
   "execution_count": 7,
   "metadata": {},
   "outputs": [
    {
     "name": "stdout",
     "output_type": "stream",
     "text": [
      "[-2.06389856  2.06389856] -3.25 -0.65 [1617.44405753 1782.55594247] 82.55594246512082\n",
      "39.68433903017365\n"
     ]
    }
   ],
   "source": [
    "# 23~29\n",
    "mu = 1830\n",
    "alpha = 0.05\n",
    "n = 25\n",
    "degree_of_freedom = n - 1\n",
    "x_bar = 1700\n",
    "S = 200\n",
    "t_critical_values = scipy.stats.t(degree_of_freedom).ppf([alpha/2, 1 - alpha/2]) # more precise than the answer values \n",
    "t_value = (x_bar - mu) / (S / n ** 0.5)\n",
    "#p = 2 * (1 - scipy.stats.t(degree_of_freedom).cdf(t_value))\n",
    "cohen_d = (x_bar - mu) / S\n",
    "ci_95 = x_bar + t_critical_values * (S / n ** 0.5)\n",
    "margin_of_error = t_critical_values[1] * (S / n ** 0.5)\n",
    "print(t_critical_values, t_value, cohen_d, ci_95, margin_of_error)\n",
    "\n",
    "#30\n",
    "n_2=100\n",
    "degree_of_freedom_2 = n_2 - 1\n",
    "t_critical_values_2 = scipy.stats.t(degree_of_freedom_2).ppf([alpha/2, 1 - alpha/2])\n",
    "margin_of_error_2 = t_critical_values_2[1] * (S / n_2 ** 0.5)\n",
    "print(margin_of_error_2)"
   ]
  },
  {
   "cell_type": "code",
   "execution_count": 8,
   "metadata": {},
   "outputs": [
    {
     "name": "stdout",
     "output_type": "stream",
     "text": [
      "[5.08 7.8 ]\n",
      "-2.72 3.6914315199752337\n",
      "-3.684207583536927\n",
      "[-2.06389856  2.06389856]\n",
      "-0.7368415167073854\n",
      "[-4.24374804 -1.19625196]\n"
     ]
    }
   ],
   "source": [
    "# 32~40\n",
    "_sample = pd.read_csv('./keyboards.csv').as_matrix().T\n",
    "print(np.average(_sample, 1))\n",
    "\n",
    "# sample as differences\n",
    "sample = _sample[0] - _sample[1]\n",
    "n = sample.shape[0]\n",
    "degree_of_freedom = n - 1\n",
    "x_bar = np.average(sample)\n",
    "\n",
    "S = (np.sum((sample - x_bar)**2) / degree_of_freedom) ** 0.5\n",
    "print(x_bar, S)\n",
    "\n",
    "t_value = x_bar / (S / n ** 0.5)\n",
    "print(t_value)\n",
    "\n",
    "alpha = 0.05\n",
    "t_critical_values = scipy.stats.t(degree_of_freedom).ppf([alpha/2, 1 - alpha/2])\n",
    "print(t_critical_values)\n",
    "\n",
    "cohen_d = x_bar / S\n",
    "print(cohen_d)\n",
    "\n",
    "ci_95 = x_bar + t_critical_values * (S / n ** 0.5)\n",
    "print(ci_95)"
   ]
  }
 ],
 "metadata": {
  "kernelspec": {
   "display_name": "Python 3",
   "language": "python",
   "name": "python3"
  },
  "language_info": {
   "codemirror_mode": {
    "name": "ipython",
    "version": 3
   },
   "file_extension": ".py",
   "mimetype": "text/x-python",
   "name": "python",
   "nbconvert_exporter": "python",
   "pygments_lexer": "ipython3",
   "version": "3.6.0"
  }
 },
 "nbformat": 4,
 "nbformat_minor": 2
}
